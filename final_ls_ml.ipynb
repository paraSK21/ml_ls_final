{
 "cells": [
  {
   "cell_type": "code",
   "execution_count": 1,
   "id": "669e3975-a054-49f4-82e3-359d54e6d09a",
   "metadata": {},
   "outputs": [],
   "source": [
    "import cv2 \n",
    "import matplotlib.pyplot as plt\n",
    "import numpy as np \n",
    "import random \n",
    "import os "
   ]
  },
  {
   "cell_type": "code",
   "execution_count": 2,
   "id": "c19eee1b-a1d8-49f0-af31-2d3307563146",
   "metadata": {},
   "outputs": [
    {
     "name": "stdout",
     "output_type": "stream",
     "text": [
      "3.11.9 (tags/v3.11.9:de54cf5, Apr  2 2024, 10:12:12) [MSC v.1938 64 bit (AMD64)]\n"
     ]
    }
   ],
   "source": [
    "import sys\n",
    "print(sys.version)\n"
   ]
  },
  {
   "cell_type": "code",
   "execution_count": 3,
   "id": "a7461896-fb23-4463-a762-398c42a0019e",
   "metadata": {},
   "outputs": [
    {
     "name": "stdout",
     "output_type": "stream",
     "text": [
      "2\n"
     ]
    }
   ],
   "source": [
    "a = np.array([2,32])\n",
    "print(a[0])"
   ]
  },
  {
   "cell_type": "code",
   "execution_count": 4,
   "id": "bc6418fb-d255-4659-9b2e-d7e828ec6eb2",
   "metadata": {},
   "outputs": [
    {
     "name": "stdout",
     "output_type": "stream",
     "text": [
      "Defaulting to user installation because normal site-packages is not writeable\n",
      "Requirement already satisfied: tensorflow in c:\\users\\naini\\appdata\\roaming\\python\\python311\\site-packages (2.17.0)\n",
      "Requirement already satisfied: tensorflow-intel==2.17.0 in c:\\users\\naini\\appdata\\roaming\\python\\python311\\site-packages (from tensorflow) (2.17.0)\n",
      "Requirement already satisfied: absl-py>=1.0.0 in c:\\users\\naini\\appdata\\roaming\\python\\python311\\site-packages (from tensorflow-intel==2.17.0->tensorflow) (2.1.0)\n",
      "Requirement already satisfied: astunparse>=1.6.0 in c:\\users\\naini\\appdata\\roaming\\python\\python311\\site-packages (from tensorflow-intel==2.17.0->tensorflow) (1.6.3)\n",
      "Requirement already satisfied: flatbuffers>=24.3.25 in c:\\users\\naini\\appdata\\roaming\\python\\python311\\site-packages (from tensorflow-intel==2.17.0->tensorflow) (24.3.25)\n",
      "Requirement already satisfied: gast!=0.5.0,!=0.5.1,!=0.5.2,>=0.2.1 in c:\\users\\naini\\appdata\\roaming\\python\\python311\\site-packages (from tensorflow-intel==2.17.0->tensorflow) (0.6.0)\n",
      "Requirement already satisfied: google-pasta>=0.1.1 in c:\\users\\naini\\appdata\\roaming\\python\\python311\\site-packages (from tensorflow-intel==2.17.0->tensorflow) (0.2.0)\n",
      "Requirement already satisfied: h5py>=3.10.0 in c:\\users\\naini\\appdata\\roaming\\python\\python311\\site-packages (from tensorflow-intel==2.17.0->tensorflow) (3.11.0)\n",
      "Requirement already satisfied: libclang>=13.0.0 in c:\\users\\naini\\appdata\\roaming\\python\\python311\\site-packages (from tensorflow-intel==2.17.0->tensorflow) (18.1.1)\n",
      "Requirement already satisfied: ml-dtypes<0.5.0,>=0.3.1 in c:\\users\\naini\\appdata\\roaming\\python\\python311\\site-packages (from tensorflow-intel==2.17.0->tensorflow) (0.4.0)\n",
      "Requirement already satisfied: opt-einsum>=2.3.2 in c:\\users\\naini\\appdata\\roaming\\python\\python311\\site-packages (from tensorflow-intel==2.17.0->tensorflow) (3.3.0)\n",
      "Requirement already satisfied: packaging in c:\\users\\naini\\appdata\\roaming\\python\\python311\\site-packages (from tensorflow-intel==2.17.0->tensorflow) (22.0)\n",
      "Requirement already satisfied: protobuf!=4.21.0,!=4.21.1,!=4.21.2,!=4.21.3,!=4.21.4,!=4.21.5,<5.0.0dev,>=3.20.3 in c:\\users\\naini\\appdata\\roaming\\python\\python311\\site-packages (from tensorflow-intel==2.17.0->tensorflow) (4.25.4)\n",
      "Requirement already satisfied: requests<3,>=2.21.0 in c:\\users\\naini\\appdata\\roaming\\python\\python311\\site-packages (from tensorflow-intel==2.17.0->tensorflow) (2.32.3)\n",
      "Requirement already satisfied: setuptools in c:\\program files\\python311\\lib\\site-packages (from tensorflow-intel==2.17.0->tensorflow) (65.5.0)\n",
      "Requirement already satisfied: six>=1.12.0 in c:\\users\\naini\\appdata\\roaming\\python\\python311\\site-packages (from tensorflow-intel==2.17.0->tensorflow) (1.16.0)\n",
      "Requirement already satisfied: termcolor>=1.1.0 in c:\\users\\naini\\appdata\\roaming\\python\\python311\\site-packages (from tensorflow-intel==2.17.0->tensorflow) (2.4.0)\n",
      "Requirement already satisfied: typing-extensions>=3.6.6 in c:\\users\\naini\\appdata\\roaming\\python\\python311\\site-packages (from tensorflow-intel==2.17.0->tensorflow) (4.11.0)\n",
      "Requirement already satisfied: wrapt>=1.11.0 in c:\\users\\naini\\appdata\\roaming\\python\\python311\\site-packages (from tensorflow-intel==2.17.0->tensorflow) (1.16.0)\n",
      "Requirement already satisfied: grpcio<2.0,>=1.24.3 in c:\\users\\naini\\appdata\\roaming\\python\\python311\\site-packages (from tensorflow-intel==2.17.0->tensorflow) (1.65.1)\n",
      "Requirement already satisfied: tensorboard<2.18,>=2.17 in c:\\users\\naini\\appdata\\roaming\\python\\python311\\site-packages (from tensorflow-intel==2.17.0->tensorflow) (2.17.0)\n",
      "Requirement already satisfied: keras>=3.2.0 in c:\\users\\naini\\appdata\\roaming\\python\\python311\\site-packages (from tensorflow-intel==2.17.0->tensorflow) (3.4.1)\n",
      "Requirement already satisfied: tensorflow-io-gcs-filesystem>=0.23.1 in c:\\users\\naini\\appdata\\roaming\\python\\python311\\site-packages (from tensorflow-intel==2.17.0->tensorflow) (0.31.0)\n",
      "Requirement already satisfied: numpy<2.0.0,>=1.23.5 in c:\\users\\naini\\appdata\\roaming\\python\\python311\\site-packages (from tensorflow-intel==2.17.0->tensorflow) (1.24.1)\n",
      "Requirement already satisfied: wheel<1.0,>=0.23.0 in c:\\users\\naini\\appdata\\roaming\\python\\python311\\site-packages (from astunparse>=1.6.0->tensorflow-intel==2.17.0->tensorflow) (0.43.0)\n",
      "Requirement already satisfied: rich in c:\\users\\naini\\appdata\\roaming\\python\\python311\\site-packages (from keras>=3.2.0->tensorflow-intel==2.17.0->tensorflow) (13.7.1)\n",
      "Requirement already satisfied: namex in c:\\users\\naini\\appdata\\roaming\\python\\python311\\site-packages (from keras>=3.2.0->tensorflow-intel==2.17.0->tensorflow) (0.0.8)\n",
      "Requirement already satisfied: optree in c:\\users\\naini\\appdata\\roaming\\python\\python311\\site-packages (from keras>=3.2.0->tensorflow-intel==2.17.0->tensorflow) (0.12.1)\n",
      "Requirement already satisfied: charset-normalizer<4,>=2 in c:\\users\\naini\\appdata\\roaming\\python\\python311\\site-packages (from requests<3,>=2.21.0->tensorflow-intel==2.17.0->tensorflow) (2.0.6)\n",
      "Requirement already satisfied: idna<4,>=2.5 in c:\\users\\naini\\appdata\\roaming\\python\\python311\\site-packages (from requests<3,>=2.21.0->tensorflow-intel==2.17.0->tensorflow) (3.2)\n",
      "Requirement already satisfied: urllib3<3,>=1.21.1 in c:\\users\\naini\\appdata\\roaming\\python\\python311\\site-packages (from requests<3,>=2.21.0->tensorflow-intel==2.17.0->tensorflow) (1.26.6)\n",
      "Requirement already satisfied: certifi>=2017.4.17 in c:\\users\\naini\\appdata\\roaming\\python\\python311\\site-packages (from requests<3,>=2.21.0->tensorflow-intel==2.17.0->tensorflow) (2021.5.30)\n",
      "Requirement already satisfied: markdown>=2.6.8 in c:\\users\\naini\\appdata\\roaming\\python\\python311\\site-packages (from tensorboard<2.18,>=2.17->tensorflow-intel==2.17.0->tensorflow) (3.6)\n",
      "Requirement already satisfied: tensorboard-data-server<0.8.0,>=0.7.0 in c:\\users\\naini\\appdata\\roaming\\python\\python311\\site-packages (from tensorboard<2.18,>=2.17->tensorflow-intel==2.17.0->tensorflow) (0.7.2)\n",
      "Requirement already satisfied: werkzeug>=1.0.1 in c:\\users\\naini\\appdata\\roaming\\python\\python311\\site-packages (from tensorboard<2.18,>=2.17->tensorflow-intel==2.17.0->tensorflow) (3.0.3)\n",
      "Requirement already satisfied: MarkupSafe>=2.1.1 in c:\\users\\naini\\appdata\\roaming\\python\\python311\\site-packages (from werkzeug>=1.0.1->tensorboard<2.18,>=2.17->tensorflow-intel==2.17.0->tensorflow) (2.1.5)\n",
      "Requirement already satisfied: markdown-it-py>=2.2.0 in c:\\users\\naini\\appdata\\roaming\\python\\python311\\site-packages (from rich->keras>=3.2.0->tensorflow-intel==2.17.0->tensorflow) (3.0.0)\n",
      "Requirement already satisfied: pygments<3.0.0,>=2.13.0 in c:\\users\\naini\\appdata\\roaming\\python\\python311\\site-packages (from rich->keras>=3.2.0->tensorflow-intel==2.17.0->tensorflow) (2.18.0)\n",
      "Requirement already satisfied: mdurl~=0.1 in c:\\users\\naini\\appdata\\roaming\\python\\python311\\site-packages (from markdown-it-py>=2.2.0->rich->keras>=3.2.0->tensorflow-intel==2.17.0->tensorflow) (0.1.2)\n"
     ]
    },
    {
     "name": "stderr",
     "output_type": "stream",
     "text": [
      "\n",
      "[notice] A new release of pip is available: 24.1.2 -> 24.2\n",
      "[notice] To update, run: python.exe -m pip install --upgrade pip\n"
     ]
    }
   ],
   "source": [
    "!pip install tensorflow"
   ]
  },
  {
   "cell_type": "code",
   "execution_count": 5,
   "id": "97ad6dff-ca04-4c93-840a-d49abd66b010",
   "metadata": {},
   "outputs": [],
   "source": [
    "POS_PATH = os.path.join('data', 'positive')\n",
    "NEG_PATH = os.path.join('data', 'negative')\n",
    "ANC_PATH = os.path.join('data', 'anchor')"
   ]
  },
  {
   "cell_type": "code",
   "execution_count": null,
   "id": "bcf3a2e8-d3b6-4f45-b72a-d0af3d9be0a9",
   "metadata": {},
   "outputs": [],
   "source": [
    "# Make the directories\n",
    "os.makedirs(POS_PATH)\n",
    "os.makedirs(NEG_PATH)\n",
    "os.makedirs(ANC_PATH)"
   ]
  },
  {
   "cell_type": "code",
   "execution_count": null,
   "id": "48e9cd23-de12-47f1-8b7a-2472ec5e7909",
   "metadata": {},
   "outputs": [],
   "source": [
    "# !tar -xf negative.tgz"
   ]
  },
  {
   "cell_type": "code",
   "execution_count": null,
   "id": "13ff2182-a79e-44c9-b6a7-6a6ab504046e",
   "metadata": {},
   "outputs": [],
   "source": [
    "# Move LFW Images to the following repository data/negative\n",
    "# for directory in os.listdir('lfw'):\n",
    "#     for file in os.listdir(os.path.join('lfw', directory)):\n",
    "#         EX_PATH = os.path.join('lfw', directory, file)\n",
    "#         NEW_PATH = os.path.join(NEG_PATH, file)\n",
    "#         os.replace(EX_PATH, NEW_PATH)"
   ]
  },
  {
   "cell_type": "code",
   "execution_count": null,
   "id": "413fd128-5459-4fbd-b0c9-91b5f1faca2b",
   "metadata": {},
   "outputs": [],
   "source": [
    "# Import uuid library to generate unique image names\n",
    "import uuid"
   ]
  },
  {
   "cell_type": "code",
   "execution_count": null,
   "id": "8fc545a6-9b40-4804-929e-92a849eaf9f2",
   "metadata": {},
   "outputs": [],
   "source": [
    "os.path.join(ANC_PATH, '{}.jpg'.format(uuid.uuid1()))"
   ]
  },
  {
   "cell_type": "code",
   "execution_count": null,
   "id": "316a3ee5-c184-4087-83d1-7d189efb844e",
   "metadata": {},
   "outputs": [],
   "source": [
    "# Establish a connection to the webcam\n",
    "cap = cv2.VideoCapture(0)\n",
    "while cap.isOpened(): \n",
    "    ret, frame = cap.read()\n",
    "   \n",
    "    # Cut down frame to 250x250px\n",
    "    frame = frame[120:370,200:450, :]\n",
    "    \n",
    "    # Collect anchors \n",
    "    if cv2.waitKey(1) & 0XFF == ord('a'):\n",
    "        # Create the unique file path \n",
    "        imgname = os.path.join(ANC_PATH, '{}.jpg'.format(uuid.uuid1()))\n",
    "        # Write out anchor image\n",
    "        cv2.imwrite(imgname, frame)\n",
    "    \n",
    "    # Collect positives\n",
    "    if cv2.waitKey(1) & 0XFF == ord('p'):\n",
    "        # Create the unique file path \n",
    "        imgname = os.path.join(POS_PATH, '{}.jpg'.format(uuid.uuid1()))\n",
    "        # Write out positive image\n",
    "        cv2.imwrite(imgname, frame)\n",
    "    \n",
    "    # Show image back to screen\n",
    "    cv2.imshow('Image Collection', frame)\n",
    "    \n",
    "    # Breaking gracefully\n",
    "    if cv2.waitKey(1) & 0XFF == ord('q'):\n",
    "        break\n",
    "        \n",
    "# Release the webcam\n",
    "cap.release()\n",
    "# Close the image show frame\n",
    "cv2.destroyAllWindows()"
   ]
  },
  {
   "cell_type": "code",
   "execution_count": null,
   "id": "49f2d0c9-6eb7-4bf1-8d8a-b902d99eb2c9",
   "metadata": {},
   "outputs": [],
   "source": [
    "plt.imshow(frame[120:120+250,200:200+250, :])"
   ]
  },
  {
   "cell_type": "code",
   "execution_count": null,
   "id": "35f0b602-012f-4afc-8d06-27567bae12ed",
   "metadata": {},
   "outputs": [],
   "source": [
    "import tensorflow as tf \n",
    "def data_aug(img):\n",
    "    data = []\n",
    "    for i in range(9):\n",
    "        img = tf.image.stateless_random_brightness(img, max_delta=0.02, seed=(1,2))\n",
    "        img = tf.image.stateless_random_contrast(img, lower=0.6, upper=1, seed=(1,3))\n",
    "        # img = tf.image.stateless_random_crop(img, size=(20,20,3), seed=(1,2))\n",
    "        img = tf.image.stateless_random_flip_left_right(img, seed=(np.random.randint(100),np.random.randint(100)))\n",
    "        img = tf.image.stateless_random_jpeg_quality(img, min_jpeg_quality=90, max_jpeg_quality=100, seed=(np.random.randint(100),np.random.randint(100)))\n",
    "        img = tf.image.stateless_random_saturation(img, lower=0.9,upper=1, seed=(np.random.randint(100),np.random.randint(100)))\n",
    "            \n",
    "        data.append(img)\n",
    "    \n",
    "    return data"
   ]
  },
  {
   "cell_type": "code",
   "execution_count": null,
   "id": "82ad1720-11f2-4fd1-9f9c-8c50e550a5f0",
   "metadata": {},
   "outputs": [],
   "source": [
    "import os\n",
    "import uuid"
   ]
  },
  {
   "cell_type": "code",
   "execution_count": null,
   "id": "87092229-4733-448c-b220-0d036e532359",
   "metadata": {},
   "outputs": [],
   "source": [
    "img_path = os.path.join(ANC_PATH, '924e839c-135f-11ec-b54e-a0cec8d2d278.jpg')\n",
    "img = cv2.imread(img_path)\n",
    "augmented_images = data_aug(img)\n",
    "\n",
    "for image in augmented_images:\n",
    "    cv2.imwrite(os.path.join(ANC_PATH, '{}.jpg'.format(uuid.uuid1())), image.numpy())"
   ]
  },
  {
   "cell_type": "code",
   "execution_count": null,
   "id": "befbc90e-600d-4406-9dd8-a6e5ac8b6430",
   "metadata": {},
   "outputs": [],
   "source": [
    "for file_name in os.listdir(os.path.join(POS_PATH)):\n",
    "    img_path = os.path.join(POS_PATH, file_name)\n",
    "    img = cv2.imread(img_path)\n",
    "    augmented_images = data_aug(img) \n",
    "    \n",
    "    for image in augmented_images:\n",
    "        cv2.imwrite(os.path.join(POS_PATH, '{}.jpg'.format(uuid.uuid1())), image.numpy())"
   ]
  },
  {
   "cell_type": "code",
   "execution_count": null,
   "id": "aa786e98-5186-4662-b649-85affcd9c361",
   "metadata": {},
   "outputs": [],
   "source": []
  },
  {
   "cell_type": "code",
   "execution_count": 6,
   "id": "62bcb56c-c42e-4951-9aa0-d2b7520000e4",
   "metadata": {},
   "outputs": [],
   "source": [
    "import tensorflow as tf "
   ]
  },
  {
   "cell_type": "code",
   "execution_count": 7,
   "id": "8b4e0bb9-9b96-4bc6-a3d8-5885ef797cd9",
   "metadata": {},
   "outputs": [],
   "source": [
    "from tensorflow.keras.models import Model \n",
    "from tensorflow.keras.layers import Layer , Conv2D , Dense , MaxPooling2D ,Input , Flatten"
   ]
  },
  {
   "cell_type": "code",
   "execution_count": null,
   "id": "c5d8820d-2baf-4ce5-8c3b-c90159678265",
   "metadata": {},
   "outputs": [],
   "source": [
    "# Model(inputs = [inputimage , verificationimage] , outputs=[1,0])"
   ]
  },
  {
   "cell_type": "code",
   "execution_count": 8,
   "id": "e93ff543-f227-46e1-9a4e-7ea65c6dc8bf",
   "metadata": {},
   "outputs": [],
   "source": [
    "anchor = tf.data.Dataset.list_files(ANC_PATH+'\\*.jpg').take(300)\n",
    "positive = tf.data.Dataset.list_files(POS_PATH+'\\*.jpg').take(300)\n",
    "negative = tf.data.Dataset.list_files(NEG_PATH+'\\*.jpg').take(300)\n",
    "# anchor = tf.data.Dataset.list_files(ANC_PATH + '\\\\*.jpg').take(50)\n",
    "# positive = tf.data.Dataset.list_files(POS_PATH + '\\\\*.jpg').take(50)\n",
    "# negative = tf.data.Dataset.list_files(NEG_PATH + '\\*.jpg').take(30)"
   ]
  },
  {
   "cell_type": "code",
   "execution_count": 9,
   "id": "55e0794f-bcac-4fd5-8e1b-1ded24715ecd",
   "metadata": {},
   "outputs": [
    {
     "data": {
      "text/plain": [
       "b'data\\\\anchor\\\\db31894d-4eb5-11ef-9327-d3400457995b.jpg'"
      ]
     },
     "execution_count": 9,
     "metadata": {},
     "output_type": "execute_result"
    }
   ],
   "source": [
    "dir_test = anchor.as_numpy_iterator()\n",
    "dir_test.next()\n"
   ]
  },
  {
   "cell_type": "code",
   "execution_count": 10,
   "id": "6f806640-2ab3-4d02-bd3a-d6024b563d5d",
   "metadata": {},
   "outputs": [],
   "source": [
    "def preprocess(file_path):\n",
    "    byte_img = tf.io.read_file(file_path)\n",
    "    img = tf.io.decode_jpeg(byte_img)\n",
    "\n",
    "    # preprocessing image to 100 * 100 pixels * 3 channels \n",
    "    img = tf.image.resize(img , (100 , 100))\n",
    "    #scale image between 0 to 1\n",
    "    img = img/255.0 \n",
    "\n",
    "    return img "
   ]
  },
  {
   "cell_type": "code",
   "execution_count": 11,
   "id": "cdd0ab96-42c4-42fb-a9be-12e1e1e0d13c",
   "metadata": {},
   "outputs": [],
   "source": [
    "img = preprocess('data/anchor/007518c6-4ea8-11ef-8c51-d3400457995b.jpg')"
   ]
  },
  {
   "cell_type": "code",
   "execution_count": null,
   "id": "6f9ae4bf-64e9-438f-b011-2734f83550f3",
   "metadata": {},
   "outputs": [],
   "source": [
    "img.numpy().max()"
   ]
  },
  {
   "cell_type": "code",
   "execution_count": null,
   "id": "9994a4d1-4f94-4b01-9d93-b65945a700bb",
   "metadata": {},
   "outputs": [],
   "source": [
    "plt.imshow(img) "
   ]
  },
  {
   "cell_type": "code",
   "execution_count": null,
   "id": "de93e63a-6056-428e-8d69-71779005269d",
   "metadata": {},
   "outputs": [],
   "source": [
    "dataset.map(preprocess)"
   ]
  },
  {
   "cell_type": "code",
   "execution_count": null,
   "id": "f35ff671-00ca-4a2f-a6ba-f4e2596beda2",
   "metadata": {},
   "outputs": [],
   "source": [
    "class_labels = tf.data.Dataset.from_tensor_slices(tf.zeros(len(anchor)))"
   ]
  },
  {
   "cell_type": "code",
   "execution_count": null,
   "id": "76f3655f-f815-45e1-8d49-fee582f80cde",
   "metadata": {},
   "outputs": [],
   "source": [
    "iterator_labs = class_labels.as_numpy_iterator()"
   ]
  },
  {
   "cell_type": "code",
   "execution_count": null,
   "id": "503ad899-bcf9-48ff-bf8d-dd5bce3365b8",
   "metadata": {},
   "outputs": [],
   "source": [
    "iterator_labs.next()"
   ]
  },
  {
   "cell_type": "code",
   "execution_count": null,
   "id": "ba511b08-faf6-48dd-8d43-e09615bc144d",
   "metadata": {},
   "outputs": [],
   "source": [
    "# create labelled dataset"
   ]
  },
  {
   "cell_type": "code",
   "execution_count": 12,
   "id": "6c1d9744-3538-468d-b0b2-d998a1e0b191",
   "metadata": {},
   "outputs": [],
   "source": [
    "# (anchor , positive)  = > 1,1,1,1 ,1\n",
    "# (anchor , positive)  = > 0,0,0,0,0\n",
    "\n",
    "positives = tf.data.Dataset.zip((anchor , positive , tf.data.Dataset.from_tensor_slices(tf.ones(len(anchor)))))\n",
    "negatives = tf.data.Dataset.zip((anchor , negative , tf.data.Dataset.from_tensor_slices(tf.zeros(len(anchor)))))\n",
    "data =  positives.concatenate(negatives)"
   ]
  },
  {
   "cell_type": "code",
   "execution_count": 13,
   "id": "bc47b437-a7fc-4995-87a3-8cc5dff2e284",
   "metadata": {},
   "outputs": [],
   "source": [
    "samples = data.as_numpy_iterator()\n",
    "ex = samples.next() "
   ]
  },
  {
   "cell_type": "code",
   "execution_count": 14,
   "id": "e7533bf8-b4c8-41c6-928a-b282b38efbb6",
   "metadata": {},
   "outputs": [],
   "source": [
    "# build test and train partition "
   ]
  },
  {
   "cell_type": "code",
   "execution_count": 15,
   "id": "fa277e03-beae-488b-8350-800c6e26b27c",
   "metadata": {},
   "outputs": [],
   "source": [
    "def preprocess_twin(input_img , validation_img , label):\n",
    "    return (preprocess(input_img), preprocess(validation_img) , label)"
   ]
  },
  {
   "cell_type": "code",
   "execution_count": 16,
   "id": "31afa0d5-60af-447b-ab55-cd36245b73f9",
   "metadata": {},
   "outputs": [],
   "source": [
    "res = preprocess_twin(*ex)"
   ]
  },
  {
   "cell_type": "code",
   "execution_count": 17,
   "id": "9459bc30-fdb1-4055-a9a8-fd2531f8c8c3",
   "metadata": {},
   "outputs": [
    {
     "data": {
      "text/plain": [
       "3"
      ]
     },
     "execution_count": 17,
     "metadata": {},
     "output_type": "execute_result"
    }
   ],
   "source": [
    "len(res)"
   ]
  },
  {
   "cell_type": "code",
   "execution_count": 18,
   "id": "1eca6cd6-ba9a-43cf-9586-3f994303cbda",
   "metadata": {},
   "outputs": [],
   "source": [
    "# build dataloader pipeline\n",
    "\n",
    "data = data.map(preprocess_twin)\n",
    "data = data.cache()\n",
    "data = data.shuffle(buffer_size =10000)\n"
   ]
  },
  {
   "cell_type": "code",
   "execution_count": 19,
   "id": "0e5dce2e-44ee-4a5b-9a2f-6061fba95bb5",
   "metadata": {},
   "outputs": [
    {
     "data": {
      "text/plain": [
       "3"
      ]
     },
     "execution_count": 19,
     "metadata": {},
     "output_type": "execute_result"
    }
   ],
   "source": [
    "samples = data.as_numpy_iterator()\n",
    "len(samples.next())"
   ]
  },
  {
   "cell_type": "code",
   "execution_count": 21,
   "id": "ace9f187-636f-4109-93f9-ed5f066d0078",
   "metadata": {},
   "outputs": [
    {
     "data": {
      "text/plain": [
       "<matplotlib.image.AxesImage at 0x2292c05d090>"
      ]
     },
     "execution_count": 21,
     "metadata": {},
     "output_type": "execute_result"
    },
    {
     "data": {
      "image/png": "[encoded data removed]",
      "text/plain": [
       "<Figure size 640x480 with 1 Axes>"
      ]
     },
     "metadata": {},
     "output_type": "display_data"
    }
   ],
   "source": [
    "samp = samples.next()\n",
    "plt.imshow(samp[0])"
   ]
  },
  {
   "cell_type": "code",
   "execution_count": 22,
   "id": "688783a5-d464-4bc7-94ab-4b0d5fc9d3b1",
   "metadata": {},
   "outputs": [
    {
     "data": {
      "text/plain": [
       "<matplotlib.image.AxesImage at 0x2292c0ab8d0>"
      ]
     },
     "execution_count": 22,
     "metadata": {},
     "output_type": "execute_result"
    },
    {
     "data": {
      "image/png": "[encoded data removed]",
      "text/plain": [
       "<Figure size 640x480 with 1 Axes>"
      ]
     },
     "metadata": {},
     "output_type": "display_data"
    }
   ],
   "source": [
    "plt.imshow(samp[1])"
   ]
  },
  {
   "cell_type": "code",
   "execution_count": 23,
   "id": "e14b1148-bb8c-4c99-bc87-4d61ac635492",
   "metadata": {},
   "outputs": [
    {
     "data": {
      "text/plain": [
       "0.0"
      ]
     },
     "execution_count": 23,
     "metadata": {},
     "output_type": "execute_result"
    }
   ],
   "source": [
    "samp[2]"
   ]
  },
  {
   "cell_type": "code",
   "execution_count": 24,
   "id": "e63d32d9-0e6f-4e2e-8edb-3c7f46f2186a",
   "metadata": {},
   "outputs": [],
   "source": [
    "# Training partition\n",
    "train_data = data.take(round(len(data)*.7))\n",
    "train_data = train_data.batch(16)\n",
    "train_data = train_data.prefetch(8)"
   ]
  },
  {
   "cell_type": "code",
   "execution_count": 25,
   "id": "70eaabea-0044-4c90-adf4-c8d224b9dca4",
   "metadata": {},
   "outputs": [],
   "source": [
    "# Testing partition\n",
    "test_data = data.skip(round(len(data)*.7))\n",
    "test_data = test_data.take(round(len(data)*.3))\n",
    "test_data = test_data.batch(16)\n",
    "test_data = test_data.prefetch(8)"
   ]
  },
  {
   "cell_type": "code",
   "execution_count": 26,
   "id": "90a8e934-4b34-47a5-9bd6-0f9677a4c99b",
   "metadata": {},
   "outputs": [],
   "source": [
    "# formation of model "
   ]
  },
  {
   "cell_type": "code",
   "execution_count": null,
   "id": "80acfd9c-e156-4500-9800-2f576d589edd",
   "metadata": {},
   "outputs": [],
   "source": [
    "inp = Input(shape=(100,100,3) ,name='input_image')"
   ]
  },
  {
   "cell_type": "code",
   "execution_count": null,
   "id": "c5e5813a-6551-41b0-94a0-363ef0189046",
   "metadata": {},
   "outputs": [],
   "source": [
    "inp "
   ]
  },
  {
   "cell_type": "code",
   "execution_count": null,
   "id": "29ab62c1-6443-4f32-9d02-8cfbb9835b3f",
   "metadata": {},
   "outputs": [],
   "source": [
    "c1 = Conv2D(64,(10,10) , activation='relu')(inp)"
   ]
  },
  {
   "cell_type": "code",
   "execution_count": null,
   "id": "4b714794-35c7-49af-88a2-33a13d19b9fe",
   "metadata": {},
   "outputs": [],
   "source": [
    "c1"
   ]
  },
  {
   "cell_type": "code",
   "execution_count": null,
   "id": "c8e19ad0-9d65-485d-bffe-ba963b5b65ad",
   "metadata": {},
   "outputs": [],
   "source": [
    "m1 = MaxPooling2D(64,(2,2),padding='same')(c1)"
   ]
  },
  {
   "cell_type": "code",
   "execution_count": null,
   "id": "c01c5a15-b138-41bf-803a-0daad7ae7915",
   "metadata": {},
   "outputs": [],
   "source": [
    "m1"
   ]
  },
  {
   "cell_type": "code",
   "execution_count": 27,
   "id": "dd128740-48b4-4001-937f-92fb378c88dc",
   "metadata": {},
   "outputs": [],
   "source": [
    "def make_embedding():\n",
    "    inp = Input(shape=(100,100,3), name='input_image')\n",
    "    #first block\n",
    "    c1 = Conv2D(64,(10,10) , activation='relu')(inp)\n",
    "    m1 = MaxPooling2D(64,(2,2),padding='same')(c1)\n",
    "    #second block\n",
    "    c2 = Conv2D(128,(7,7) , activation='relu')(m1)\n",
    "    m2 = MaxPooling2D(64,(2,2),padding='same')(c2)\n",
    "    #third block \n",
    "    c3 = Conv2D(128, (4,4), activation='relu')(m2)\n",
    "    m3 = MaxPooling2D(64, (2,2), padding='same')(c3)\n",
    "\n",
    "    c4 = Conv2D(256, (4,4), activation='relu')(m3)\n",
    "    f1 = Flatten()(c4)\n",
    "    d1 = Dense(4096, activation='sigmoid')(f1)\n",
    "\n",
    "    return Model(inputs=[inp] , outputs=[d1] , name='embedding') "
   ]
  },
  {
   "cell_type": "code",
   "execution_count": 28,
   "id": "34c88f68-545d-4098-bc29-2c4c0a474083",
   "metadata": {},
   "outputs": [
    {
     "data": {
      "text/html": [
       "<pre style=\"white-space:pre;overflow-x:auto;line-height:normal;font-family:Menlo,'DejaVu Sans Mono',consolas,'Courier New',monospace\"><span style=\"font-weight: bold\">Model: \"embedding\"</span>\n",
       "</pre>\n"
      ],
      "text/plain": [
       "\u001b[1mModel: \"embedding\"\u001b[0m\n"
      ]
     },
     "metadata": {},
     "output_type": "display_data"
    },
    {
     "data": {
      "text/html": [
       "<pre style=\"white-space:pre;overflow-x:auto;line-height:normal;font-family:Menlo,'DejaVu Sans Mono',consolas,'Courier New',monospace\">┏━━━━━━━━━━━━━━━━━━━━━━━━━━━━━━━━━━━━━━┳━━━━━━━━━━━━━━━━━━━━━━━━━━━━━┳━━━━━━━━━━━━━━━━━┓\n",
       "┃<span style=\"font-weight: bold\"> Layer (type)                         </span>┃<span style=\"font-weight: bold\"> Output Shape                </span>┃<span style=\"font-weight: bold\">         Param # </span>┃\n",
       "┡━━━━━━━━━━━━━━━━━━━━━━━━━━━━━━━━━━━━━━╇━━━━━━━━━━━━━━━━━━━━━━━━━━━━━╇━━━━━━━━━━━━━━━━━┩\n",
       "│ input_image (<span style=\"color: #0087ff; text-decoration-color: #0087ff\">InputLayer</span>)             │ (<span style=\"color: #00d7ff; text-decoration-color: #00d7ff\">None</span>, <span style=\"color: #00af00; text-decoration-color: #00af00\">100</span>, <span style=\"color: #00af00; text-decoration-color: #00af00\">100</span>, <span style=\"color: #00af00; text-decoration-color: #00af00\">3</span>)         │               <span style=\"color: #00af00; text-decoration-color: #00af00\">0</span> │\n",
       "├──────────────────────────────────────┼─────────────────────────────┼─────────────────┤\n",
       "│ conv2d (<span style=\"color: #0087ff; text-decoration-color: #0087ff\">Conv2D</span>)                      │ (<span style=\"color: #00d7ff; text-decoration-color: #00d7ff\">None</span>, <span style=\"color: #00af00; text-decoration-color: #00af00\">91</span>, <span style=\"color: #00af00; text-decoration-color: #00af00\">91</span>, <span style=\"color: #00af00; text-decoration-color: #00af00\">64</span>)          │          <span style=\"color: #00af00; text-decoration-color: #00af00\">19,264</span> │\n",
       "├──────────────────────────────────────┼─────────────────────────────┼─────────────────┤\n",
       "│ max_pooling2d (<span style=\"color: #0087ff; text-decoration-color: #0087ff\">MaxPooling2D</span>)         │ (<span style=\"color: #00d7ff; text-decoration-color: #00d7ff\">None</span>, <span style=\"color: #00af00; text-decoration-color: #00af00\">46</span>, <span style=\"color: #00af00; text-decoration-color: #00af00\">46</span>, <span style=\"color: #00af00; text-decoration-color: #00af00\">64</span>)          │               <span style=\"color: #00af00; text-decoration-color: #00af00\">0</span> │\n",
       "├──────────────────────────────────────┼─────────────────────────────┼─────────────────┤\n",
       "│ conv2d_1 (<span style=\"color: #0087ff; text-decoration-color: #0087ff\">Conv2D</span>)                    │ (<span style=\"color: #00d7ff; text-decoration-color: #00d7ff\">None</span>, <span style=\"color: #00af00; text-decoration-color: #00af00\">40</span>, <span style=\"color: #00af00; text-decoration-color: #00af00\">40</span>, <span style=\"color: #00af00; text-decoration-color: #00af00\">128</span>)         │         <span style=\"color: #00af00; text-decoration-color: #00af00\">401,536</span> │\n",
       "├──────────────────────────────────────┼─────────────────────────────┼─────────────────┤\n",
       "│ max_pooling2d_1 (<span style=\"color: #0087ff; text-decoration-color: #0087ff\">MaxPooling2D</span>)       │ (<span style=\"color: #00d7ff; text-decoration-color: #00d7ff\">None</span>, <span style=\"color: #00af00; text-decoration-color: #00af00\">20</span>, <span style=\"color: #00af00; text-decoration-color: #00af00\">20</span>, <span style=\"color: #00af00; text-decoration-color: #00af00\">128</span>)         │               <span style=\"color: #00af00; text-decoration-color: #00af00\">0</span> │\n",
       "├──────────────────────────────────────┼─────────────────────────────┼─────────────────┤\n",
       "│ conv2d_2 (<span style=\"color: #0087ff; text-decoration-color: #0087ff\">Conv2D</span>)                    │ (<span style=\"color: #00d7ff; text-decoration-color: #00d7ff\">None</span>, <span style=\"color: #00af00; text-decoration-color: #00af00\">17</span>, <span style=\"color: #00af00; text-decoration-color: #00af00\">17</span>, <span style=\"color: #00af00; text-decoration-color: #00af00\">128</span>)         │         <span style=\"color: #00af00; text-decoration-color: #00af00\">262,272</span> │\n",
       "├──────────────────────────────────────┼─────────────────────────────┼─────────────────┤\n",
       "│ max_pooling2d_2 (<span style=\"color: #0087ff; text-decoration-color: #0087ff\">MaxPooling2D</span>)       │ (<span style=\"color: #00d7ff; text-decoration-color: #00d7ff\">None</span>, <span style=\"color: #00af00; text-decoration-color: #00af00\">9</span>, <span style=\"color: #00af00; text-decoration-color: #00af00\">9</span>, <span style=\"color: #00af00; text-decoration-color: #00af00\">128</span>)           │               <span style=\"color: #00af00; text-decoration-color: #00af00\">0</span> │\n",
       "├──────────────────────────────────────┼─────────────────────────────┼─────────────────┤\n",
       "│ conv2d_3 (<span style=\"color: #0087ff; text-decoration-color: #0087ff\">Conv2D</span>)                    │ (<span style=\"color: #00d7ff; text-decoration-color: #00d7ff\">None</span>, <span style=\"color: #00af00; text-decoration-color: #00af00\">6</span>, <span style=\"color: #00af00; text-decoration-color: #00af00\">6</span>, <span style=\"color: #00af00; text-decoration-color: #00af00\">256</span>)           │         <span style=\"color: #00af00; text-decoration-color: #00af00\">524,544</span> │\n",
       "├──────────────────────────────────────┼─────────────────────────────┼─────────────────┤\n",
       "│ flatten (<span style=\"color: #0087ff; text-decoration-color: #0087ff\">Flatten</span>)                    │ (<span style=\"color: #00d7ff; text-decoration-color: #00d7ff\">None</span>, <span style=\"color: #00af00; text-decoration-color: #00af00\">9216</span>)                │               <span style=\"color: #00af00; text-decoration-color: #00af00\">0</span> │\n",
       "├──────────────────────────────────────┼─────────────────────────────┼─────────────────┤\n",
       "│ dense (<span style=\"color: #0087ff; text-decoration-color: #0087ff\">Dense</span>)                        │ (<span style=\"color: #00d7ff; text-decoration-color: #00d7ff\">None</span>, <span style=\"color: #00af00; text-decoration-color: #00af00\">4096</span>)                │      <span style=\"color: #00af00; text-decoration-color: #00af00\">37,752,832</span> │\n",
       "└──────────────────────────────────────┴─────────────────────────────┴─────────────────┘\n",
       "</pre>\n"
      ],
      "text/plain": [
       "┏━━━━━━━━━━━━━━━━━━━━━━━━━━━━━━━━━━━━━━┳━━━━━━━━━━━━━━━━━━━━━━━━━━━━━┳━━━━━━━━━━━━━━━━━┓\n",
       "┃\u001b[1m \u001b[0m\u001b[1mLayer (type)                        \u001b[0m\u001b[1m \u001b[0m┃\u001b[1m \u001b[0m\u001b[1mOutput Shape               \u001b[0m\u001b[1m \u001b[0m┃\u001b[1m \u001b[0m\u001b[1m        Param #\u001b[0m\u001b[1m \u001b[0m┃\n",
       "┡━━━━━━━━━━━━━━━━━━━━━━━━━━━━━━━━━━━━━━╇━━━━━━━━━━━━━━━━━━━━━━━━━━━━━╇━━━━━━━━━━━━━━━━━┩\n",
       "│ input_image (\u001b[38;5;33mInputLayer\u001b[0m)             │ (\u001b[38;5;45mNone\u001b[0m, \u001b[38;5;34m100\u001b[0m, \u001b[38;5;34m100\u001b[0m, \u001b[38;5;34m3\u001b[0m)         │               \u001b[38;5;34m0\u001b[0m │\n",
       "├──────────────────────────────────────┼─────────────────────────────┼─────────────────┤\n",
       "│ conv2d (\u001b[38;5;33mConv2D\u001b[0m)                      │ (\u001b[38;5;45mNone\u001b[0m, \u001b[38;5;34m91\u001b[0m, \u001b[38;5;34m91\u001b[0m, \u001b[38;5;34m64\u001b[0m)          │          \u001b[38;5;34m19,264\u001b[0m │\n",
       "├──────────────────────────────────────┼─────────────────────────────┼─────────────────┤\n",
       "│ max_pooling2d (\u001b[38;5;33mMaxPooling2D\u001b[0m)         │ (\u001b[38;5;45mNone\u001b[0m, \u001b[38;5;34m46\u001b[0m, \u001b[38;5;34m46\u001b[0m, \u001b[38;5;34m64\u001b[0m)          │               \u001b[38;5;34m0\u001b[0m │\n",
       "├──────────────────────────────────────┼─────────────────────────────┼─────────────────┤\n",
       "│ conv2d_1 (\u001b[38;5;33mConv2D\u001b[0m)                    │ (\u001b[38;5;45mNone\u001b[0m, \u001b[38;5;34m40\u001b[0m, \u001b[38;5;34m40\u001b[0m, \u001b[38;5;34m128\u001b[0m)         │         \u001b[38;5;34m401,536\u001b[0m │\n",
       "├──────────────────────────────────────┼─────────────────────────────┼─────────────────┤\n",
       "│ max_pooling2d_1 (\u001b[38;5;33mMaxPooling2D\u001b[0m)       │ (\u001b[38;5;45mNone\u001b[0m, \u001b[38;5;34m20\u001b[0m, \u001b[38;5;34m20\u001b[0m, \u001b[38;5;34m128\u001b[0m)         │               \u001b[38;5;34m0\u001b[0m │\n",
       "├──────────────────────────────────────┼─────────────────────────────┼─────────────────┤\n",
       "│ conv2d_2 (\u001b[38;5;33mConv2D\u001b[0m)                    │ (\u001b[38;5;45mNone\u001b[0m, \u001b[38;5;34m17\u001b[0m, \u001b[38;5;34m17\u001b[0m, \u001b[38;5;34m128\u001b[0m)         │         \u001b[38;5;34m262,272\u001b[0m │\n",
       "├──────────────────────────────────────┼─────────────────────────────┼─────────────────┤\n",
       "│ max_pooling2d_2 (\u001b[38;5;33mMaxPooling2D\u001b[0m)       │ (\u001b[38;5;45mNone\u001b[0m, \u001b[38;5;34m9\u001b[0m, \u001b[38;5;34m9\u001b[0m, \u001b[38;5;34m128\u001b[0m)           │               \u001b[38;5;34m0\u001b[0m │\n",
       "├──────────────────────────────────────┼─────────────────────────────┼─────────────────┤\n",
       "│ conv2d_3 (\u001b[38;5;33mConv2D\u001b[0m)                    │ (\u001b[38;5;45mNone\u001b[0m, \u001b[38;5;34m6\u001b[0m, \u001b[38;5;34m6\u001b[0m, \u001b[38;5;34m256\u001b[0m)           │         \u001b[38;5;34m524,544\u001b[0m │\n",
       "├──────────────────────────────────────┼─────────────────────────────┼─────────────────┤\n",
       "│ flatten (\u001b[38;5;33mFlatten\u001b[0m)                    │ (\u001b[38;5;45mNone\u001b[0m, \u001b[38;5;34m9216\u001b[0m)                │               \u001b[38;5;34m0\u001b[0m │\n",
       "├──────────────────────────────────────┼─────────────────────────────┼─────────────────┤\n",
       "│ dense (\u001b[38;5;33mDense\u001b[0m)                        │ (\u001b[38;5;45mNone\u001b[0m, \u001b[38;5;34m4096\u001b[0m)                │      \u001b[38;5;34m37,752,832\u001b[0m │\n",
       "└──────────────────────────────────────┴─────────────────────────────┴─────────────────┘\n"
      ]
     },
     "metadata": {},
     "output_type": "display_data"
    },
    {
     "data": {
      "text/html": [
       "<pre style=\"white-space:pre;overflow-x:auto;line-height:normal;font-family:Menlo,'DejaVu Sans Mono',consolas,'Courier New',monospace\"><span style=\"font-weight: bold\"> Total params: </span><span style=\"color: #00af00; text-decoration-color: #00af00\">38,960,448</span> (148.62 MB)\n",
       "</pre>\n"
      ],
      "text/plain": [
       "\u001b[1m Total params: \u001b[0m\u001b[38;5;34m38,960,448\u001b[0m (148.62 MB)\n"
      ]
     },
     "metadata": {},
     "output_type": "display_data"
    },
    {
     "data": {
      "text/html": [
       "<pre style=\"white-space:pre;overflow-x:auto;line-height:normal;font-family:Menlo,'DejaVu Sans Mono',consolas,'Courier New',monospace\"><span style=\"font-weight: bold\"> Trainable params: </span><span style=\"color: #00af00; text-decoration-color: #00af00\">38,960,448</span> (148.62 MB)\n",
       "</pre>\n"
      ],
      "text/plain": [
       "\u001b[1m Trainable params: \u001b[0m\u001b[38;5;34m38,960,448\u001b[0m (148.62 MB)\n"
      ]
     },
     "metadata": {},
     "output_type": "display_data"
    },
    {
     "data": {
      "text/html": [
       "<pre style=\"white-space:pre;overflow-x:auto;line-height:normal;font-family:Menlo,'DejaVu Sans Mono',consolas,'Courier New',monospace\"><span style=\"font-weight: bold\"> Non-trainable params: </span><span style=\"color: #00af00; text-decoration-color: #00af00\">0</span> (0.00 B)\n",
       "</pre>\n"
      ],
      "text/plain": [
       "\u001b[1m Non-trainable params: \u001b[0m\u001b[38;5;34m0\u001b[0m (0.00 B)\n"
      ]
     },
     "metadata": {},
     "output_type": "display_data"
    }
   ],
   "source": [
    "embedding = make_embedding()\n",
    "embedding.summary()"
   ]
  },
  {
   "cell_type": "code",
   "execution_count": null,
   "id": "a71266b6-527e-408f-b1b5-4172d21ef7b5",
   "metadata": {},
   "outputs": [],
   "source": [
    "# THIS IS CUSTOM LAYER WHICH IS THE DEFINING CHAR IN siamese network "
   ]
  },
  {
   "cell_type": "code",
   "execution_count": 29,
   "id": "8bc9896f-4fab-4662-9822-9091a41a9c84",
   "metadata": {},
   "outputs": [],
   "source": [
    "class L1Dist(Layer):\n",
    "    def __init__(self, **kwargs):\n",
    "        super(L1Dist, self).__init__(**kwargs)\n",
    "\n",
    "    def call(self, input_embedding, validation_embedding):\n",
    "        \n",
    "        input_tensor = input_embedding[0]  # Assuming you need the first tensor in the list\n",
    "        validation_tensor = validation_embedding[0]  # Assuming you need the first tensor in the list\n",
    "    \n",
    "        # Perform the subtraction\n",
    "        return tf.math.abs(input_tensor - validation_tensor)\n",
    "\n",
    "    def compute_output_shape(self, input_shape):\n",
    "        return input_shape[0]\n"
   ]
  },
  {
   "cell_type": "code",
   "execution_count": 30,
   "id": "b0ebdeac-a40b-4366-95af-29a3820fa894",
   "metadata": {},
   "outputs": [],
   "source": [
    "l1 = L1Dist()"
   ]
  },
  {
   "cell_type": "code",
   "execution_count": null,
   "id": "a7ed6794-dc48-4dca-b161-c1926c292d72",
   "metadata": {},
   "outputs": [],
   "source": [
    "l1(anchor_embedding , validation_embedding)"
   ]
  },
  {
   "cell_type": "code",
   "execution_count": 31,
   "id": "ce81c51f-3bb2-47a4-8e2f-11d116cb36d6",
   "metadata": {},
   "outputs": [],
   "source": [
    "def make_siamese_model(): \n",
    "    # Anchor image input in the network\n",
    "    input_image = tf.keras.layers.Input(name='input_img', shape=(100, 100, 3))\n",
    "    \n",
    "    # Validation image in the network \n",
    "    validation_image = tf.keras.layers.Input(name='validation_img', shape=(100, 100, 3))\n",
    "    \n",
    "    # Combine siamese distance components\n",
    "    siamese_layer = L1Dist()\n",
    "    siamese_layer._name = 'distance'\n",
    "    distances = siamese_layer(embedding(input_image), embedding(validation_image))\n",
    "    \n",
    "    # Classification layer \n",
    "    classifier = tf.keras.layers.Dense(1, activation='sigmoid')(distances)\n",
    "    \n",
    "    return tf.keras.Model(inputs=[input_image, validation_image], outputs=classifier, name='SiameseNetwork')\n"
   ]
  },
  {
   "cell_type": "code",
   "execution_count": 32,
   "id": "d6b53520-7dbc-4f30-82fc-7e900d54095d",
   "metadata": {},
   "outputs": [],
   "source": [
    "siamese_model = make_siamese_model()"
   ]
  },
  {
   "cell_type": "code",
   "execution_count": 33,
   "id": "e0453b19-42f6-4cdb-a2c9-fd7274cabc57",
   "metadata": {},
   "outputs": [
    {
     "data": {
      "text/html": [
       "<pre style=\"white-space:pre;overflow-x:auto;line-height:normal;font-family:Menlo,'DejaVu Sans Mono',consolas,'Courier New',monospace\"><span style=\"font-weight: bold\">Model: \"SiameseNetwork\"</span>\n",
       "</pre>\n"
      ],
      "text/plain": [
       "\u001b[1mModel: \"SiameseNetwork\"\u001b[0m\n"
      ]
     },
     "metadata": {},
     "output_type": "display_data"
    },
    {
     "data": {
      "text/html": [
       "<pre style=\"white-space:pre;overflow-x:auto;line-height:normal;font-family:Menlo,'DejaVu Sans Mono',consolas,'Courier New',monospace\">┏━━━━━━━━━━━━━━━━━━━━━━━━━━━━━━━┳━━━━━━━━━━━━━━━━━━━━━━━━━━━┳━━━━━━━━━━━━━━━━━┳━━━━━━━━━━━━━━━━━━━━━━━━━━━━┓\n",
       "┃<span style=\"font-weight: bold\"> Layer (type)                  </span>┃<span style=\"font-weight: bold\"> Output Shape              </span>┃<span style=\"font-weight: bold\">         Param # </span>┃<span style=\"font-weight: bold\"> Connected to               </span>┃\n",
       "┡━━━━━━━━━━━━━━━━━━━━━━━━━━━━━━━╇━━━━━━━━━━━━━━━━━━━━━━━━━━━╇━━━━━━━━━━━━━━━━━╇━━━━━━━━━━━━━━━━━━━━━━━━━━━━┩\n",
       "│ input_img (<span style=\"color: #0087ff; text-decoration-color: #0087ff\">InputLayer</span>)        │ (<span style=\"color: #00d7ff; text-decoration-color: #00d7ff\">None</span>, <span style=\"color: #00af00; text-decoration-color: #00af00\">100</span>, <span style=\"color: #00af00; text-decoration-color: #00af00\">100</span>, <span style=\"color: #00af00; text-decoration-color: #00af00\">3</span>)       │               <span style=\"color: #00af00; text-decoration-color: #00af00\">0</span> │ -                          │\n",
       "├───────────────────────────────┼───────────────────────────┼─────────────────┼────────────────────────────┤\n",
       "│ validation_img (<span style=\"color: #0087ff; text-decoration-color: #0087ff\">InputLayer</span>)   │ (<span style=\"color: #00d7ff; text-decoration-color: #00d7ff\">None</span>, <span style=\"color: #00af00; text-decoration-color: #00af00\">100</span>, <span style=\"color: #00af00; text-decoration-color: #00af00\">100</span>, <span style=\"color: #00af00; text-decoration-color: #00af00\">3</span>)       │               <span style=\"color: #00af00; text-decoration-color: #00af00\">0</span> │ -                          │\n",
       "├───────────────────────────────┼───────────────────────────┼─────────────────┼────────────────────────────┤\n",
       "│ embedding (<span style=\"color: #0087ff; text-decoration-color: #0087ff\">Functional</span>)        │ (<span style=\"color: #00d7ff; text-decoration-color: #00d7ff\">None</span>, <span style=\"color: #00af00; text-decoration-color: #00af00\">4096</span>)              │      <span style=\"color: #00af00; text-decoration-color: #00af00\">38,960,448</span> │ input_img[<span style=\"color: #00af00; text-decoration-color: #00af00\">0</span>][<span style=\"color: #00af00; text-decoration-color: #00af00\">0</span>],           │\n",
       "│                               │                           │                 │ validation_img[<span style=\"color: #00af00; text-decoration-color: #00af00\">0</span>][<span style=\"color: #00af00; text-decoration-color: #00af00\">0</span>]       │\n",
       "├───────────────────────────────┼───────────────────────────┼─────────────────┼────────────────────────────┤\n",
       "│ l1_dist_1 (<span style=\"color: #0087ff; text-decoration-color: #0087ff\">L1Dist</span>)            │ (<span style=\"color: #00d7ff; text-decoration-color: #00d7ff\">None</span>, <span style=\"color: #00af00; text-decoration-color: #00af00\">4096</span>)              │               <span style=\"color: #00af00; text-decoration-color: #00af00\">0</span> │ embedding[<span style=\"color: #00af00; text-decoration-color: #00af00\">0</span>][<span style=\"color: #00af00; text-decoration-color: #00af00\">0</span>],           │\n",
       "│                               │                           │                 │ embedding[<span style=\"color: #00af00; text-decoration-color: #00af00\">1</span>][<span style=\"color: #00af00; text-decoration-color: #00af00\">0</span>]            │\n",
       "├───────────────────────────────┼───────────────────────────┼─────────────────┼────────────────────────────┤\n",
       "│ dense_1 (<span style=\"color: #0087ff; text-decoration-color: #0087ff\">Dense</span>)               │ (<span style=\"color: #00d7ff; text-decoration-color: #00d7ff\">None</span>, <span style=\"color: #00af00; text-decoration-color: #00af00\">1</span>)                 │           <span style=\"color: #00af00; text-decoration-color: #00af00\">4,097</span> │ l1_dist_1[<span style=\"color: #00af00; text-decoration-color: #00af00\">0</span>][<span style=\"color: #00af00; text-decoration-color: #00af00\">0</span>]            │\n",
       "└───────────────────────────────┴───────────────────────────┴─────────────────┴────────────────────────────┘\n",
       "</pre>\n"
      ],
      "text/plain": [
       "┏━━━━━━━━━━━━━━━━━━━━━━━━━━━━━━━┳━━━━━━━━━━━━━━━━━━━━━━━━━━━┳━━━━━━━━━━━━━━━━━┳━━━━━━━━━━━━━━━━━━━━━━━━━━━━┓\n",
       "┃\u001b[1m \u001b[0m\u001b[1mLayer (type)                 \u001b[0m\u001b[1m \u001b[0m┃\u001b[1m \u001b[0m\u001b[1mOutput Shape             \u001b[0m\u001b[1m \u001b[0m┃\u001b[1m \u001b[0m\u001b[1m        Param #\u001b[0m\u001b[1m \u001b[0m┃\u001b[1m \u001b[0m\u001b[1mConnected to              \u001b[0m\u001b[1m \u001b[0m┃\n",
       "┡━━━━━━━━━━━━━━━━━━━━━━━━━━━━━━━╇━━━━━━━━━━━━━━━━━━━━━━━━━━━╇━━━━━━━━━━━━━━━━━╇━━━━━━━━━━━━━━━━━━━━━━━━━━━━┩\n",
       "│ input_img (\u001b[38;5;33mInputLayer\u001b[0m)        │ (\u001b[38;5;45mNone\u001b[0m, \u001b[38;5;34m100\u001b[0m, \u001b[38;5;34m100\u001b[0m, \u001b[38;5;34m3\u001b[0m)       │               \u001b[38;5;34m0\u001b[0m │ -                          │\n",
       "├───────────────────────────────┼───────────────────────────┼─────────────────┼────────────────────────────┤\n",
       "│ validation_img (\u001b[38;5;33mInputLayer\u001b[0m)   │ (\u001b[38;5;45mNone\u001b[0m, \u001b[38;5;34m100\u001b[0m, \u001b[38;5;34m100\u001b[0m, \u001b[38;5;34m3\u001b[0m)       │               \u001b[38;5;34m0\u001b[0m │ -                          │\n",
       "├───────────────────────────────┼───────────────────────────┼─────────────────┼────────────────────────────┤\n",
       "│ embedding (\u001b[38;5;33mFunctional\u001b[0m)        │ (\u001b[38;5;45mNone\u001b[0m, \u001b[38;5;34m4096\u001b[0m)              │      \u001b[38;5;34m38,960,448\u001b[0m │ input_img[\u001b[38;5;34m0\u001b[0m][\u001b[38;5;34m0\u001b[0m],           │\n",
       "│                               │                           │                 │ validation_img[\u001b[38;5;34m0\u001b[0m][\u001b[38;5;34m0\u001b[0m]       │\n",
       "├───────────────────────────────┼───────────────────────────┼─────────────────┼────────────────────────────┤\n",
       "│ l1_dist_1 (\u001b[38;5;33mL1Dist\u001b[0m)            │ (\u001b[38;5;45mNone\u001b[0m, \u001b[38;5;34m4096\u001b[0m)              │               \u001b[38;5;34m0\u001b[0m │ embedding[\u001b[38;5;34m0\u001b[0m][\u001b[38;5;34m0\u001b[0m],           │\n",
       "│                               │                           │                 │ embedding[\u001b[38;5;34m1\u001b[0m][\u001b[38;5;34m0\u001b[0m]            │\n",
       "├───────────────────────────────┼───────────────────────────┼─────────────────┼────────────────────────────┤\n",
       "│ dense_1 (\u001b[38;5;33mDense\u001b[0m)               │ (\u001b[38;5;45mNone\u001b[0m, \u001b[38;5;34m1\u001b[0m)                 │           \u001b[38;5;34m4,097\u001b[0m │ l1_dist_1[\u001b[38;5;34m0\u001b[0m][\u001b[38;5;34m0\u001b[0m]            │\n",
       "└───────────────────────────────┴───────────────────────────┴─────────────────┴────────────────────────────┘\n"
      ]
     },
     "metadata": {},
     "output_type": "display_data"
    },
    {
     "data": {
      "text/html": [
       "<pre style=\"white-space:pre;overflow-x:auto;line-height:normal;font-family:Menlo,'DejaVu Sans Mono',consolas,'Courier New',monospace\"><span style=\"font-weight: bold\"> Total params: </span><span style=\"color: #00af00; text-decoration-color: #00af00\">38,964,545</span> (148.64 MB)\n",
       "</pre>\n"
      ],
      "text/plain": [
       "\u001b[1m Total params: \u001b[0m\u001b[38;5;34m38,964,545\u001b[0m (148.64 MB)\n"
      ]
     },
     "metadata": {},
     "output_type": "display_data"
    },
    {
     "data": {
      "text/html": [
       "<pre style=\"white-space:pre;overflow-x:auto;line-height:normal;font-family:Menlo,'DejaVu Sans Mono',consolas,'Courier New',monospace\"><span style=\"font-weight: bold\"> Trainable params: </span><span style=\"color: #00af00; text-decoration-color: #00af00\">38,964,545</span> (148.64 MB)\n",
       "</pre>\n"
      ],
      "text/plain": [
       "\u001b[1m Trainable params: \u001b[0m\u001b[38;5;34m38,964,545\u001b[0m (148.64 MB)\n"
      ]
     },
     "metadata": {},
     "output_type": "display_data"
    },
    {
     "data": {
      "text/html": [
       "<pre style=\"white-space:pre;overflow-x:auto;line-height:normal;font-family:Menlo,'DejaVu Sans Mono',consolas,'Courier New',monospace\"><span style=\"font-weight: bold\"> Non-trainable params: </span><span style=\"color: #00af00; text-decoration-color: #00af00\">0</span> (0.00 B)\n",
       "</pre>\n"
      ],
      "text/plain": [
       "\u001b[1m Non-trainable params: \u001b[0m\u001b[38;5;34m0\u001b[0m (0.00 B)\n"
      ]
     },
     "metadata": {},
     "output_type": "display_data"
    }
   ],
   "source": [
    "siamese_model.summary()"
   ]
  },
  {
   "cell_type": "code",
   "execution_count": null,
   "id": "a219d7ef-1cd4-41b9-962f-085b4e7d612e",
   "metadata": {},
   "outputs": [],
   "source": [
    "# TRAIN MODEL "
   ]
  },
  {
   "cell_type": "code",
   "execution_count": 34,
   "id": "281a021c-65c0-4d60-a2fa-47cb7096b7c2",
   "metadata": {},
   "outputs": [],
   "source": [
    "# LOSS function \n",
    "binary_cross_loss = tf.losses.BinaryCrossentropy()\n",
    "\n",
    "# optimizer\n",
    "\n",
    "opt = tf.keras.optimizers.Adam(1e-4) # .0001"
   ]
  },
  {
   "cell_type": "code",
   "execution_count": 43,
   "id": "18997c34-366d-473f-9082-c097709eceda",
   "metadata": {},
   "outputs": [],
   "source": [
    "# establish checkpoints \n",
    "checkpoint_dir = './training_checkpoints'\n",
    "checkpoint_prefix = os.path.join(checkpoint_dir, 'ckpt')\n",
    "checkpoint = tf.train.Checkpoint(opt=opt, siamese_model=siamese_model)\n"
   ]
  },
  {
   "cell_type": "code",
   "execution_count": 44,
   "id": "b8a1d0d3-3ff1-49ea-a397-8aab2314e221",
   "metadata": {},
   "outputs": [],
   "source": [
    "EPOCHS = 50 "
   ]
  },
  {
   "cell_type": "code",
   "execution_count": 45,
   "id": "3f7a2207-9be9-4bbf-91dc-434d0553c650",
   "metadata": {},
   "outputs": [],
   "source": [
    "# # basic flow \n",
    "# prediction \n",
    "# loss \n",
    "# gradient \n",
    "# new weights "
   ]
  },
  {
   "cell_type": "code",
   "execution_count": 46,
   "id": "ce91715f-eb7b-44ea-aee6-760adcb284a4",
   "metadata": {},
   "outputs": [],
   "source": [
    "test_batch = train_data.as_numpy_iterator()"
   ]
  },
  {
   "cell_type": "code",
   "execution_count": 47,
   "id": "1939b563-e36f-46ff-97f7-5165958e2b8d",
   "metadata": {},
   "outputs": [],
   "source": [
    "batch_1 = test_batch.next()"
   ]
  },
  {
   "cell_type": "code",
   "execution_count": 48,
   "id": "26f62350-5ec8-4b5d-8ef6-09199b60dffb",
   "metadata": {},
   "outputs": [
    {
     "data": {
      "text/plain": [
       "array([0., 0., 0., 1., 1., 1., 0., 0., 1., 1., 1., 1., 1., 1., 1., 1.],\n",
       "      dtype=float32)"
      ]
     },
     "execution_count": 48,
     "metadata": {},
     "output_type": "execute_result"
    }
   ],
   "source": [
    "len(batch_1)\n",
    "batch_1[0]\n",
    "len(batch_1[0])\n",
    "batch_1[2]\n"
   ]
  },
  {
   "cell_type": "code",
   "execution_count": null,
   "id": "34bdaa4b-cc97-4eb2-8e4f-498a390609ff",
   "metadata": {},
   "outputs": [],
   "source": [
    "X = batch[:2]"
   ]
  },
  {
   "cell_type": "code",
   "execution_count": null,
   "id": "350c3153-7696-4042-ad96-7319014d9cd7",
   "metadata": {},
   "outputs": [],
   "source": [
    "X"
   ]
  },
  {
   "cell_type": "code",
   "execution_count": null,
   "id": "b338fb35-ffbd-4236-9a9e-18abe6fe7641",
   "metadata": {},
   "outputs": [],
   "source": [
    "y = batch[:2]"
   ]
  },
  {
   "cell_type": "code",
   "execution_count": null,
   "id": "e924978c-1e85-47c7-b41f-0626a7c54731",
   "metadata": {},
   "outputs": [],
   "source": [
    "y"
   ]
  },
  {
   "cell_type": "code",
   "execution_count": 49,
   "id": "2bcee308-8831-4382-a870-af4f1e6d4e77",
   "metadata": {},
   "outputs": [],
   "source": [
    "# compiles a function into a callable tensorflow graph \n",
    "@tf.function\n",
    "def train_step(batch):\n",
    "    # tf.Gradient allows us to record operation for automatic differentiation \n",
    "    with tf.GradientTape() as tape : \n",
    "        # get anchor and positive /negative image \n",
    "        X = batch[:2]\n",
    "        # get label \n",
    "        y = batch[:2]\n",
    "\n",
    "        # forward pass \n",
    "        yhat = siamese_model(X , training= True)\n",
    "        if isinstance(y, tuple):\n",
    "            y = y[0]  # Extract the tensor from the tuple if needed\n",
    "        if isinstance(yhat, tuple):\n",
    "            yhat = yhat[0]  # Extract the tensor from the tuple if needed\n",
    "        # loss\n",
    "        loss = binary_cross_loss(y , yhat)\n",
    "    print(loss)\n",
    "        # calculating gradients \n",
    "    grad = tape.gradient(loss , siamese_model.trainable_variables)\n",
    "        # calculate updated weights and apply to siamese model \n",
    "    opt.apply_gradients(zip(grad,siamese_model.trainable_variables))\n",
    "        \n",
    "        \n",
    "    return loss \n",
    "def train_step(batch):\n",
    "    X = batch[:2]  # Assuming X is properly extracted\n",
    "    y = batch[2]   # Assuming y is the third element in the batch\n",
    "    yhat = siamese_model(X, training=True)\n",
    "\n",
    "    # Ensure y and yhat are tensors\n",
    "    if isinstance(y, tuple):\n",
    "        y = y[0]  # Extract the tensor from the tuple if needed\n",
    "    if isinstance(yhat, tuple):\n",
    "        yhat = yhat[0]  # Extract the tensor from the tuple if needed\n",
    "\n",
    "    loss = binary_cross_loss(y, yhat)\n",
    "    print(loss)\n",
    "\n",
    "    # Assuming there's more code to update gradients, optimizer, etc.\n"
   ]
  },
  {
   "cell_type": "code",
   "execution_count": 50,
   "id": "8f847744-3547-4ff1-a031-564220531cc6",
   "metadata": {},
   "outputs": [],
   "source": [
    "def train(data, EPOCHS):\n",
    "    #loop through the epochs \n",
    "    for epoch in range(1, EPOCHS+1):\n",
    "        print('\\n Epoch {}/{}'.format(epoch,EPOCHS))\n",
    "        progbar = tf.keras.utils.Progbar(len(data))\n",
    "\n",
    "# loop through each batch\n",
    "\n",
    "    for idx , batch in enumerate(data):\n",
    "        # run train step here \n",
    "        train_step(batch)\n",
    "        progbar.update(idx+1)\n",
    "\n",
    "    # save checkpoints\n",
    "    if epoch % 10 == 0 :\n",
    "        checkpoint.save(file_prefix=checkpoint_prefix)\n",
    "        \n",
    "        \n",
    "        "
   ]
  },
  {
   "cell_type": "code",
   "execution_count": 51,
   "id": "c0325677-4f13-4bec-a558-906eef3815d1",
   "metadata": {},
   "outputs": [
    {
     "name": "stdout",
     "output_type": "stream",
     "text": [
      "\n",
      " Epoch 1/50\n",
      "\n",
      " Epoch 2/50\n",
      "\n",
      " Epoch 3/50\n",
      "\n",
      " Epoch 4/50\n",
      "\n",
      " Epoch 5/50\n",
      "\n",
      " Epoch 6/50\n",
      "\n",
      " Epoch 7/50\n",
      "\n",
      " Epoch 8/50\n",
      "\n",
      " Epoch 9/50\n",
      "\n",
      " Epoch 10/50\n",
      "\n",
      " Epoch 11/50\n",
      "\n",
      " Epoch 12/50\n",
      "\n",
      " Epoch 13/50\n",
      "\n",
      " Epoch 14/50\n",
      "\n",
      " Epoch 15/50\n",
      "\n",
      " Epoch 16/50\n",
      "\n",
      " Epoch 17/50\n",
      "\n",
      " Epoch 18/50\n",
      "\n",
      " Epoch 19/50\n",
      "\n",
      " Epoch 20/50\n",
      "\n",
      " Epoch 21/50\n",
      "\n",
      " Epoch 22/50\n",
      "\n",
      " Epoch 23/50\n",
      "\n",
      " Epoch 24/50\n",
      "\n",
      " Epoch 25/50\n",
      "\n",
      " Epoch 26/50\n",
      "\n",
      " Epoch 27/50\n",
      "\n",
      " Epoch 28/50\n",
      "\n",
      " Epoch 29/50\n",
      "\n",
      " Epoch 30/50\n",
      "\n",
      " Epoch 31/50\n",
      "\n",
      " Epoch 32/50\n",
      "\n",
      " Epoch 33/50\n",
      "\n",
      " Epoch 34/50\n",
      "\n",
      " Epoch 35/50\n",
      "\n",
      " Epoch 36/50\n",
      "\n",
      " Epoch 37/50\n",
      "\n",
      " Epoch 38/50\n",
      "\n",
      " Epoch 39/50\n",
      "\n",
      " Epoch 40/50\n",
      "\n",
      " Epoch 41/50\n",
      "\n",
      " Epoch 42/50\n",
      "\n",
      " Epoch 43/50\n",
      "\n",
      " Epoch 44/50\n",
      "\n",
      " Epoch 45/50\n",
      "\n",
      " Epoch 46/50\n",
      "\n",
      " Epoch 47/50\n",
      "\n",
      " Epoch 48/50\n",
      "\n",
      " Epoch 49/50\n",
      "\n",
      " Epoch 50/50\n",
      "tf.Tensor(0.692564, shape=(), dtype=float32)\n",
      "\u001b[1m 1/27\u001b[0m \u001b[37m━━━━━━━━━━━━━━━━━━━━\u001b[0m \u001b[1m1:26\u001b[0m 3s/steptf.Tensor(0.69301134, shape=(), dtype=float32)\n",
      "\u001b[1m 2/27\u001b[0m \u001b[32m━\u001b[0m\u001b[37m━━━━━━━━━━━━━━━━━━━\u001b[0m \u001b[1m3:16\u001b[0m 8s/steptf.Tensor(0.6930387, shape=(), dtype=float32)\n",
      "\u001b[1m 3/27\u001b[0m \u001b[32m━━\u001b[0m\u001b[37m━━━━━━━━━━━━━━━━━━\u001b[0m \u001b[1m2:57\u001b[0m 7s/steptf.Tensor(0.69283867, shape=(), dtype=float32)\n",
      "\u001b[1m 4/27\u001b[0m \u001b[32m━━\u001b[0m\u001b[37m━━━━━━━━━━━━━━━━━━\u001b[0m \u001b[1m3:30\u001b[0m 9s/steptf.Tensor(0.6924832, shape=(), dtype=float32)\n",
      "\u001b[1m 5/27\u001b[0m \u001b[32m━━━\u001b[0m\u001b[37m━━━━━━━━━━━━━━━━━\u001b[0m \u001b[1m3:30\u001b[0m 10s/steptf.Tensor(0.6924126, shape=(), dtype=float32)\n",
      "\u001b[1m 6/27\u001b[0m \u001b[32m━━━━\u001b[0m\u001b[37m━━━━━━━━━━━━━━━━\u001b[0m \u001b[1m3:21\u001b[0m 10s/steptf.Tensor(0.6931027, shape=(), dtype=float32)\n",
      "\u001b[1m 7/27\u001b[0m \u001b[32m━━━━━\u001b[0m\u001b[37m━━━━━━━━━━━━━━━\u001b[0m \u001b[1m2:59\u001b[0m 9s/step tf.Tensor(0.6928181, shape=(), dtype=float32)\n",
      "\u001b[1m 8/27\u001b[0m \u001b[32m━━━━━\u001b[0m\u001b[37m━━━━━━━━━━━━━━━\u001b[0m \u001b[1m2:41\u001b[0m 9s/steptf.Tensor(0.69182193, shape=(), dtype=float32)\n",
      "\u001b[1m 9/27\u001b[0m \u001b[32m━━━━━━\u001b[0m\u001b[37m━━━━━━━━━━━━━━\u001b[0m \u001b[1m2:42\u001b[0m 9s/steptf.Tensor(0.69402015, shape=(), dtype=float32)\n",
      "\u001b[1m10/27\u001b[0m \u001b[32m━━━━━━━\u001b[0m\u001b[37m━━━━━━━━━━━━━\u001b[0m \u001b[1m2:34\u001b[0m 9s/steptf.Tensor(0.6939701, shape=(), dtype=float32)\n",
      "\u001b[1m11/27\u001b[0m \u001b[32m━━━━━━━━\u001b[0m\u001b[37m━━━━━━━━━━━━\u001b[0m \u001b[1m2:23\u001b[0m 9s/steptf.Tensor(0.6945101, shape=(), dtype=float32)\n",
      "\u001b[1m12/27\u001b[0m \u001b[32m━━━━━━━━\u001b[0m\u001b[37m━━━━━━━━━━━━\u001b[0m \u001b[1m2:13\u001b[0m 9s/steptf.Tensor(0.69255745, shape=(), dtype=float32)\n",
      "\u001b[1m13/27\u001b[0m \u001b[32m━━━━━━━━━\u001b[0m\u001b[37m━━━━━━━━━━━\u001b[0m \u001b[1m2:03\u001b[0m 9s/steptf.Tensor(0.6937061, shape=(), dtype=float32)\n",
      "\u001b[1m14/27\u001b[0m \u001b[32m━━━━━━━━━━\u001b[0m\u001b[37m━━━━━━━━━━\u001b[0m \u001b[1m1:53\u001b[0m 9s/steptf.Tensor(0.6922231, shape=(), dtype=float32)\n",
      "\u001b[1m15/27\u001b[0m \u001b[32m━━━━━━━━━━━\u001b[0m\u001b[37m━━━━━━━━━\u001b[0m \u001b[1m1:41\u001b[0m 8s/steptf.Tensor(0.6923944, shape=(), dtype=float32)\n",
      "\u001b[1m16/27\u001b[0m \u001b[32m━━━━━━━━━━━\u001b[0m\u001b[37m━━━━━━━━━\u001b[0m \u001b[1m1:32\u001b[0m 8s/steptf.Tensor(0.6929565, shape=(), dtype=float32)\n",
      "\u001b[1m17/27\u001b[0m \u001b[32m━━━━━━━━━━━━\u001b[0m\u001b[37m━━━━━━━━\u001b[0m \u001b[1m1:21\u001b[0m 8s/steptf.Tensor(0.69352025, shape=(), dtype=float32)\n",
      "\u001b[1m18/27\u001b[0m \u001b[32m━━━━━━━━━━━━━\u001b[0m\u001b[37m━━━━━━━\u001b[0m \u001b[1m1:11\u001b[0m 8s/steptf.Tensor(0.6933022, shape=(), dtype=float32)\n",
      "\u001b[1m19/27\u001b[0m \u001b[32m━━━━━━━━━━━━━━\u001b[0m\u001b[37m━━━━━━\u001b[0m \u001b[1m1:03\u001b[0m 8s/steptf.Tensor(0.69258165, shape=(), dtype=float32)\n",
      "\u001b[1m20/27\u001b[0m \u001b[32m━━━━━━━━━━━━━━\u001b[0m\u001b[37m━━━━━━\u001b[0m \u001b[1m56s\u001b[0m 8s/step tf.Tensor(0.6937763, shape=(), dtype=float32)\n",
      "\u001b[1m21/27\u001b[0m \u001b[32m━━━━━━━━━━━━━━━\u001b[0m\u001b[37m━━━━━\u001b[0m \u001b[1m47s\u001b[0m 8s/steptf.Tensor(0.69365644, shape=(), dtype=float32)\n",
      "\u001b[1m22/27\u001b[0m \u001b[32m━━━━━━━━━━━━━━━━\u001b[0m\u001b[37m━━━━\u001b[0m \u001b[1m40s\u001b[0m 8s/steptf.Tensor(0.6924603, shape=(), dtype=float32)\n",
      "\u001b[1m23/27\u001b[0m \u001b[32m━━━━━━━━━━━━━━━━━\u001b[0m\u001b[37m━━━\u001b[0m \u001b[1m31s\u001b[0m 8s/steptf.Tensor(0.69371307, shape=(), dtype=float32)\n",
      "\u001b[1m24/27\u001b[0m \u001b[32m━━━━━━━━━━━━━━━━━\u001b[0m\u001b[37m━━━\u001b[0m \u001b[1m23s\u001b[0m 8s/steptf.Tensor(0.6930092, shape=(), dtype=float32)\n",
      "\u001b[1m25/27\u001b[0m \u001b[32m━━━━━━━━━━━━━━━━━━\u001b[0m\u001b[37m━━\u001b[0m \u001b[1m16s\u001b[0m 8s/steptf.Tensor(0.69308615, shape=(), dtype=float32)\n",
      "\u001b[1m26/27\u001b[0m \u001b[32m━━━━━━━━━━━━━━━━━━━\u001b[0m\u001b[37m━\u001b[0m \u001b[1m8s\u001b[0m 8s/step tf.Tensor(0.68942297, shape=(), dtype=float32)\n",
      "\u001b[1m27/27\u001b[0m \u001b[32m━━━━━━━━━━━━━━━━━━━━\u001b[0m\u001b[37m\u001b[0m \u001b[1m206s\u001b[0m 8s/step\n"
     ]
    }
   ],
   "source": [
    "train(train_data, EPOCHS)\n",
    "# HERE to also print the loss defined above we need eager execution \n"
   ]
  },
  {
   "cell_type": "code",
   "execution_count": null,
   "id": "ffdac41e-ff77-4303-a714-d93117d74b69",
   "metadata": {},
   "outputs": [],
   "source": [
    "# evaluate models \n"
   ]
  },
  {
   "cell_type": "code",
   "execution_count": 85,
   "id": "0048957f-8b3c-4db2-b2e0-0a962ea91b87",
   "metadata": {},
   "outputs": [],
   "source": [
    "# import metrics \n",
    "\n",
    "# Import metric calculations\n",
    "from tensorflow.keras.metrics import Precision, Recall"
   ]
  },
  {
   "cell_type": "code",
   "execution_count": 86,
   "id": "22567c4a-84bf-4057-80a8-307f93d6e44a",
   "metadata": {},
   "outputs": [],
   "source": [
    "# get a batch of test data \n",
    "test_input , test_val ,y_true = test_data.as_numpy_iterator().next()\n"
   ]
  },
  {
   "cell_type": "code",
   "execution_count": 87,
   "id": "9d718e33-ea4f-4360-95fd-ab2fc03c2d27",
   "metadata": {},
   "outputs": [],
   "source": [
    "test_var = test_data.as_numpy_iterator().next()\n"
   ]
  },
  {
   "cell_type": "code",
   "execution_count": 88,
   "id": "01a558ff-0245-4053-82e0-e9d4f1db0ec9",
   "metadata": {},
   "outputs": [
    {
     "data": {
      "text/plain": [
       "array([[[[0.9267157 , 0.9286765 , 0.85808825],\n",
       "         [0.9196078 , 0.9279412 , 0.8629902 ],\n",
       "         [0.92107844, 0.92941177, 0.8718137 ],\n",
       "         ...,\n",
       "         [0.9406863 , 0.9698529 , 0.89411765],\n",
       "         [0.9431372 , 0.9745098 , 0.8835784 ],\n",
       "         [0.9313725 , 0.9627451 , 0.8686274 ]],\n",
       "\n",
       "        [[0.90906864, 0.92769605, 0.860049  ],\n",
       "         [0.90931374, 0.9279412 , 0.8607843 ],\n",
       "         [0.9107843 , 0.92941177, 0.86813724],\n",
       "         ...,\n",
       "         [0.9404412 , 0.95710784, 0.8875    ],\n",
       "         [0.94460785, 0.9642157 , 0.87990195],\n",
       "         [0.94803923, 0.9676471 , 0.8784314 ]],\n",
       "\n",
       "        [[0.89411765, 0.9235294 , 0.8519608 ],\n",
       "         [0.89436275, 0.9218137 , 0.8517157 ],\n",
       "         [0.8953431 , 0.9227941 , 0.8541667 ],\n",
       "         ...,\n",
       "         [0.94289213, 0.95955884, 0.889951  ],\n",
       "         [0.94534314, 0.964951  , 0.88504905],\n",
       "         [0.9470588 , 0.96666664, 0.8862745 ]],\n",
       "\n",
       "        ...,\n",
       "\n",
       "        [[0.84460783, 0.8495098 , 0.7681373 ],\n",
       "         [0.8365196 , 0.84142154, 0.76004905],\n",
       "         [0.82058823, 0.8269608 , 0.7470588 ],\n",
       "         ...,\n",
       "         [0.8161765 , 0.8262255 , 0.7504902 ],\n",
       "         [0.8335784 , 0.8482843 , 0.76004905],\n",
       "         [0.82941175, 0.8509804 , 0.75      ]],\n",
       "\n",
       "        [[0.8507353 , 0.84681374, 0.7683824 ],\n",
       "         [0.82916665, 0.8252451 , 0.74828434],\n",
       "         [0.8360294 , 0.8335784 , 0.7625    ],\n",
       "         ...,\n",
       "         [0.7139706 , 0.7122549 , 0.6394608 ],\n",
       "         [0.8240196 , 0.83186275, 0.7465686 ],\n",
       "         [0.8117647 , 0.827451  , 0.7294118 ]],\n",
       "\n",
       "        [[0.84313726, 0.83137256, 0.7647059 ],\n",
       "         [0.8335784 , 0.82965684, 0.7590686 ],\n",
       "         [0.8232843 , 0.81936276, 0.7487745 ],\n",
       "         ...,\n",
       "         [0.6911765 , 0.67965686, 0.6046569 ],\n",
       "         [0.714951  , 0.7115196 , 0.6269608 ],\n",
       "         [0.7473039 , 0.75514704, 0.6610294 ]]],\n",
       "\n",
       "\n",
       "       [[[0.9137255 , 0.9843137 , 0.8980392 ],\n",
       "         [0.9264706 , 0.9852941 , 0.90294117],\n",
       "         [0.93235296, 0.9852941 , 0.90588236],\n",
       "         ...,\n",
       "         [0.9112745 , 0.96617645, 0.8759804 ],\n",
       "         [0.90588236, 0.9607843 , 0.87058824],\n",
       "         [0.92058825, 0.9754902 , 0.88529414]],\n",
       "\n",
       "        [[0.9264706 , 0.9852941 , 0.90294117],\n",
       "         [0.92990196, 0.9882353 , 0.90612745],\n",
       "         [0.93578434, 0.9889706 , 0.907598  ],\n",
       "         ...,\n",
       "         [0.91740197, 0.9615196 , 0.8840686 ],\n",
       "         [0.90955883, 0.95367646, 0.8762255 ],\n",
       "         [0.90686274, 0.95098037, 0.87352943]],\n",
       "\n",
       "        [[0.93235296, 0.9882353 , 0.9       ],\n",
       "         [0.9365196 , 0.99191177, 0.90392154],\n",
       "         [0.9343137 , 0.9889706 , 0.8995098 ],\n",
       "         ...,\n",
       "         [0.90882355, 0.9382353 , 0.8666667 ],\n",
       "         [0.90710783, 0.9365196 , 0.86495095],\n",
       "         [0.9127451 , 0.94215685, 0.87058824]],\n",
       "\n",
       "        ...,\n",
       "\n",
       "        [[0.8889706 , 0.93210787, 0.8664216 ],\n",
       "         [0.8090686 , 0.8522059 , 0.7865196 ],\n",
       "         [0.6644608 , 0.7017157 , 0.63504905],\n",
       "         ...,\n",
       "         [0.8772059 , 0.8889706 , 0.8144608 ],\n",
       "         [0.875     , 0.8867647 , 0.8122549 ],\n",
       "         [0.87352943, 0.88529414, 0.81078434]],\n",
       "\n",
       "        [[0.89240193, 0.9355392 , 0.8786765 ],\n",
       "         [0.75441176, 0.797549  , 0.7392157 ],\n",
       "         [0.68088233, 0.71593136, 0.6546569 ],\n",
       "         ...,\n",
       "         [0.8754902 , 0.8813726 , 0.8098039 ],\n",
       "         [0.8747549 , 0.8806372 , 0.8090686 ],\n",
       "         [0.88529414, 0.89117646, 0.81960785]],\n",
       "\n",
       "        [[0.8901961 , 0.93333334, 0.8784314 ],\n",
       "         [0.7343137 , 0.7745098 , 0.7205882 ],\n",
       "         [0.6745098 , 0.7058824 , 0.654902  ],\n",
       "         ...,\n",
       "         [0.8872549 , 0.89117646, 0.82058823],\n",
       "         [0.88235295, 0.8862745 , 0.8156863 ],\n",
       "         [0.88235295, 0.8862745 , 0.8156863 ]]],\n",
       "\n",
       "\n",
       "       [[[0.90318626, 0.96593136, 0.860049  ],\n",
       "         [0.9147059 , 0.9794118 , 0.8745098 ],\n",
       "         [0.9137255 , 0.9857843 , 0.88308823],\n",
       "         ...,\n",
       "         [0.9605392 , 0.9867647 , 0.90612745],\n",
       "         [0.96642154, 0.9882353 , 0.90906864],\n",
       "         [0.9671569 , 0.9889706 , 0.9098039 ]],\n",
       "\n",
       "        [[0.9139706 , 0.9669118 , 0.8718137 ],\n",
       "         [0.9254902 , 0.9823529 , 0.89509803],\n",
       "         [0.91862744, 0.9754902 , 0.8882353 ],\n",
       "         ...,\n",
       "         [0.9372549 , 0.9862745 , 0.8990196 ],\n",
       "         [0.9372549 , 0.9862745 , 0.8990196 ],\n",
       "         [0.93921566, 0.9882353 , 0.9009804 ]],\n",
       "\n",
       "        [[0.9105392 , 0.9487745 , 0.8713235 ],\n",
       "         [0.90686274, 0.94509804, 0.8754902 ],\n",
       "         [0.9022059 , 0.94215685, 0.872549  ],\n",
       "         ...,\n",
       "         [0.9235294 , 0.9852941 , 0.8862745 ],\n",
       "         [0.9227941 , 0.9845588 , 0.88553923],\n",
       "         [0.91568625, 0.97745097, 0.8784314 ]],\n",
       "\n",
       "        ...,\n",
       "\n",
       "        [[0.87352943, 0.877451  , 0.8068628 ],\n",
       "         [0.86764705, 0.8715686 , 0.8009804 ],\n",
       "         [0.8693628 , 0.87328434, 0.80269605],\n",
       "         ...,\n",
       "         [0.87352943, 0.88529414, 0.81078434],\n",
       "         [0.87058824, 0.88235295, 0.80784315],\n",
       "         [0.8627451 , 0.8745098 , 0.8       ]],\n",
       "\n",
       "        [[0.87647057, 0.88039213, 0.8098039 ],\n",
       "         [0.8715686 , 0.8754902 , 0.80490196],\n",
       "         [0.8745098 , 0.8784314 , 0.80784315],\n",
       "         ...,\n",
       "         [0.86446077, 0.8762255 , 0.8017157 ],\n",
       "         [0.8688725 , 0.8806372 , 0.8061274 ],\n",
       "         [0.87058824, 0.88235295, 0.80784315]],\n",
       "\n",
       "        [[0.8617647 , 0.8656863 , 0.79509807],\n",
       "         [0.8627451 , 0.8666667 , 0.79607844],\n",
       "         [0.8686274 , 0.872549  , 0.80196077],\n",
       "         ...,\n",
       "         [0.8607843 , 0.872549  , 0.7980392 ],\n",
       "         [0.84705883, 0.85882354, 0.78431374],\n",
       "         [0.85882354, 0.87058824, 0.79607844]]],\n",
       "\n",
       "\n",
       "       ...,\n",
       "\n",
       "\n",
       "       [[[0.9026961 , 0.9379902 , 0.83210784],\n",
       "         [0.89142156, 0.9227941 , 0.82867646],\n",
       "         [0.89240193, 0.92965686, 0.83259803],\n",
       "         ...,\n",
       "         [0.877451  , 0.9284314 , 0.8595588 ],\n",
       "         [0.8745098 , 0.9254902 , 0.85808825],\n",
       "         [0.8745098 , 0.9254902 , 0.85808825]],\n",
       "\n",
       "        [[0.9007353 , 0.92034316, 0.83235294],\n",
       "         [0.9110294 , 0.9401961 , 0.85269606],\n",
       "         [0.8906863 , 0.92720586, 0.8367647 ],\n",
       "         ...,\n",
       "         [0.8980392 , 0.9502451 , 0.8617647 ],\n",
       "         [0.9009804 , 0.9517157 , 0.8686274 ],\n",
       "         [0.8980392 , 0.9487745 , 0.8656863 ]],\n",
       "\n",
       "        [[0.907598  , 0.9242647 , 0.8546569 ],\n",
       "         [0.8990196 , 0.91862744, 0.8480392 ],\n",
       "         [0.8928922 , 0.9264706 , 0.8507353 ],\n",
       "         ...,\n",
       "         [0.91544116, 0.9625    , 0.86985296],\n",
       "         [0.9117647 , 0.9588235 , 0.87058824],\n",
       "         [0.9117647 , 0.9588235 , 0.87058824]],\n",
       "\n",
       "        ...,\n",
       "\n",
       "        [[0.8218137 , 0.8394608 , 0.75416666],\n",
       "         [0.80220586, 0.82009804, 0.73357844],\n",
       "         [0.8014706 , 0.82009804, 0.72990197],\n",
       "         ...,\n",
       "         [0.82058823, 0.8622549 , 0.78357846],\n",
       "         [0.83235294, 0.8691176 , 0.7919118 ],\n",
       "         [0.8257353 , 0.8625    , 0.7852941 ]],\n",
       "\n",
       "        [[0.8210784 , 0.8328431 , 0.7504902 ],\n",
       "         [0.8213235 , 0.83406866, 0.7497549 ],\n",
       "         [0.80514705, 0.81642157, 0.72843134],\n",
       "         ...,\n",
       "         [0.82965684, 0.8522059 , 0.7727941 ],\n",
       "         [0.8328431 , 0.85539216, 0.7759804 ],\n",
       "         [0.82843137, 0.8509804 , 0.77156866]],\n",
       "\n",
       "        [[0.84411764, 0.8519608 , 0.76960784],\n",
       "         [0.81764704, 0.8254902 , 0.74215686],\n",
       "         [0.8029412 , 0.81078434, 0.7245098 ],\n",
       "         ...,\n",
       "         [0.8384804 , 0.8502451 , 0.7757353 ],\n",
       "         [0.8509804 , 0.8627451 , 0.7882353 ],\n",
       "         [0.8509804 , 0.8627451 , 0.7882353 ]]],\n",
       "\n",
       "\n",
       "       [[[0.16127451, 0.13382353, 0.10245098],\n",
       "         [0.19558823, 0.17696078, 0.14264706],\n",
       "         [0.22426471, 0.19093138, 0.15465686],\n",
       "         ...,\n",
       "         [0.6507353 , 0.48210785, 0.2742647 ],\n",
       "         [0.65      , 0.48137254, 0.2735294 ],\n",
       "         [0.65686274, 0.4882353 , 0.28039217]],\n",
       "\n",
       "        [[0.14411765, 0.13382353, 0.0997549 ],\n",
       "         [0.19240196, 0.17769608, 0.14436275],\n",
       "         [0.20147058, 0.17941177, 0.14044118],\n",
       "         ...,\n",
       "         [0.65      , 0.47941175, 0.26960784],\n",
       "         [0.64705884, 0.4764706 , 0.26666668],\n",
       "         [0.6392157 , 0.46862745, 0.25882354]],\n",
       "\n",
       "        [[0.08406863, 0.0870098 , 0.05563726],\n",
       "         [0.14803922, 0.1509804 , 0.12401961],\n",
       "         [0.17524509, 0.16568628, 0.13161765],\n",
       "         ...,\n",
       "         [0.6664216 , 0.48995098, 0.2742647 ],\n",
       "         [0.6627451 , 0.4862745 , 0.27058825],\n",
       "         [0.6607843 , 0.48431373, 0.26862746]],\n",
       "\n",
       "        ...,\n",
       "\n",
       "        [[0.09534314, 0.12671569, 0.16985294],\n",
       "         [0.09117647, 0.12254902, 0.16568628],\n",
       "         [0.09117647, 0.12254902, 0.16568628],\n",
       "         ...,\n",
       "         [0.05490196, 0.05490196, 0.04705882],\n",
       "         [0.05490196, 0.05490196, 0.04705882],\n",
       "         [0.05490196, 0.05490196, 0.04705882]],\n",
       "\n",
       "        [[0.09901961, 0.13039216, 0.17352942],\n",
       "         [0.09191176, 0.12328431, 0.16642156],\n",
       "         [0.09117647, 0.12254902, 0.16568628],\n",
       "         ...,\n",
       "         [0.05490196, 0.05490196, 0.04705882],\n",
       "         [0.05490196, 0.05490196, 0.04705882],\n",
       "         [0.05490196, 0.05490196, 0.04705882]],\n",
       "\n",
       "        [[0.09803922, 0.12941177, 0.17254902],\n",
       "         [0.09411765, 0.1254902 , 0.16862746],\n",
       "         [0.09019608, 0.12156863, 0.16470589],\n",
       "         ...,\n",
       "         [0.05490196, 0.05490196, 0.04705882],\n",
       "         [0.05490196, 0.05490196, 0.04705882],\n",
       "         [0.05490196, 0.05490196, 0.04705882]]],\n",
       "\n",
       "\n",
       "       [[[0.99215686, 1.        , 0.99607843],\n",
       "         [0.99215686, 1.        , 0.99607843],\n",
       "         [0.99215686, 1.        , 0.99607843],\n",
       "         ...,\n",
       "         [0.97745097, 0.9990196 , 0.99215686],\n",
       "         [0.98112744, 0.9968137 , 0.99289215],\n",
       "         [0.9843137 , 1.        , 0.99607843]],\n",
       "\n",
       "        [[0.99313724, 0.9980392 , 0.9970588 ],\n",
       "         [0.99313724, 0.9980392 , 0.9970588 ],\n",
       "         [0.99313724, 0.9980392 , 0.9970588 ],\n",
       "         ...,\n",
       "         [0.9754902 , 0.9970588 , 0.99019605],\n",
       "         [0.9823529 , 0.9980392 , 0.9941176 ],\n",
       "         [0.9882353 , 1.        , 1.        ]],\n",
       "\n",
       "        [[0.9637255 , 0.97745097, 0.9735294 ],\n",
       "         [0.9637255 , 0.97745097, 0.9735294 ],\n",
       "         [0.9637255 , 0.97745097, 0.9735294 ],\n",
       "         ...,\n",
       "         [0.93063724, 0.9522059 , 0.94534314],\n",
       "         [0.9723039 , 0.9879902 , 0.98406863],\n",
       "         [0.9852941 , 1.        , 0.9970588 ]],\n",
       "\n",
       "        ...,\n",
       "\n",
       "        [[0.05882353, 0.06666667, 0.05490196],\n",
       "         [0.06666667, 0.07450981, 0.0627451 ],\n",
       "         [0.07352941, 0.0754902 , 0.07254902],\n",
       "         ...,\n",
       "         [0.25784314, 0.25784314, 0.25784314],\n",
       "         [0.93235296, 0.93235296, 0.93235296],\n",
       "         [0.99215686, 0.99215686, 0.99215686]],\n",
       "\n",
       "        [[0.05882353, 0.06666667, 0.05490196],\n",
       "         [0.06666667, 0.07450981, 0.0627451 ],\n",
       "         [0.07352941, 0.0754902 , 0.07254902],\n",
       "         ...,\n",
       "         [0.25784314, 0.25784314, 0.25784314],\n",
       "         [0.93235296, 0.93235296, 0.93235296],\n",
       "         [0.99215686, 0.99215686, 0.99215686]],\n",
       "\n",
       "        [[0.05882353, 0.06666667, 0.05490196],\n",
       "         [0.06666667, 0.07450981, 0.0627451 ],\n",
       "         [0.07352941, 0.0754902 , 0.07254902],\n",
       "         ...,\n",
       "         [0.25784314, 0.25784314, 0.25784314],\n",
       "         [0.93235296, 0.93235296, 0.93235296],\n",
       "         [0.99215686, 0.99215686, 0.99215686]]]], dtype=float32)"
      ]
     },
     "execution_count": 88,
     "metadata": {},
     "output_type": "execute_result"
    }
   ],
   "source": [
    "len(test_var[1])\n",
    "test_var[1]"
   ]
  },
  {
   "cell_type": "code",
   "execution_count": 89,
   "id": "f90e3143-a781-4dba-a385-05a9bf91db2c",
   "metadata": {},
   "outputs": [
    {
     "data": {
      "text/plain": [
       "array([0., 0., 0., 0., 1., 0., 0., 0., 1., 0., 0., 1., 1., 1., 0., 0.],\n",
       "      dtype=float32)"
      ]
     },
     "execution_count": 89,
     "metadata": {},
     "output_type": "execute_result"
    }
   ],
   "source": [
    "test_val \n",
    "test_input \n",
    "y_true \n"
   ]
  },
  {
   "cell_type": "code",
   "execution_count": 90,
   "id": "5db07295-260d-4f71-951f-3db63a287b14",
   "metadata": {},
   "outputs": [
    {
     "name": "stdout",
     "output_type": "stream",
     "text": [
      "\u001b[1m1/1\u001b[0m \u001b[32m━━━━━━━━━━━━━━━━━━━━\u001b[0m\u001b[37m\u001b[0m \u001b[1m8s\u001b[0m 8s/step\n"
     ]
    },
    {
     "data": {
      "text/plain": [
       "array([[0.49907044],\n",
       "       [0.49678588],\n",
       "       [0.499382  ],\n",
       "       [0.49789438],\n",
       "       [0.4997674 ],\n",
       "       [0.4984607 ],\n",
       "       [0.498589  ],\n",
       "       [0.4985511 ],\n",
       "       [0.4986241 ],\n",
       "       [0.49964976],\n",
       "       [0.49648005],\n",
       "       [0.49944127],\n",
       "       [0.49910057],\n",
       "       [0.4997492 ],\n",
       "       [0.49668708],\n",
       "       [0.49729773]], dtype=float32)"
      ]
     },
     "execution_count": 90,
     "metadata": {},
     "output_type": "execute_result"
    }
   ],
   "source": [
    "# make prediction \n",
    "y_hat = siamese_model.predict([test_input , test_val])\n",
    "y_hat\n"
   ]
  },
  {
   "cell_type": "code",
   "execution_count": 91,
   "id": "b22a1267-e48b-49e6-ae04-f76a13d79c82",
   "metadata": {},
   "outputs": [
    {
     "data": {
      "text/plain": [
       "[0, 0, 0, 0, 0, 0, 0, 0, 0, 0, 0, 0, 0, 0, 0, 0]"
      ]
     },
     "execution_count": 91,
     "metadata": {},
     "output_type": "execute_result"
    }
   ],
   "source": [
    "# post processing \n",
    "[1 if prediction >0.5 else 0 for prediction in y_hat ] \n"
   ]
  },
  {
   "cell_type": "code",
   "execution_count": null,
   "id": "aea79ca0-33a4-4dc9-b6a8-e8cc422027bc",
   "metadata": {},
   "outputs": [],
   "source": [
    "# res =[]\n",
    "\n",
    "# for prediction in y_hat:\n",
    "#     if prediction >0.5:\n",
    "#         res.append(1)\n",
    "#     else:\n",
    "#         res.append(0)\n",
    "\n",
    "# can also be done like this \n",
    "\n",
    "        \n",
    "        "
   ]
  },
  {
   "cell_type": "code",
   "execution_count": 79,
   "id": "c0fbf0b4-76b1-4c70-8f78-bbb4e8cd7fd7",
   "metadata": {},
   "outputs": [
    {
     "data": {
      "text/plain": [
       "array([0., 1., 0., 1., 1., 1., 1., 1., 0., 1., 0., 1., 0., 1., 1., 1.],\n",
       "      dtype=float32)"
      ]
     },
     "execution_count": 79,
     "metadata": {},
     "output_type": "execute_result"
    }
   ],
   "source": [
    "y_true"
   ]
  },
  {
   "cell_type": "code",
   "execution_count": null,
   "id": "3b2b2b13-adf0-446f-8be0-e3938ca129a8",
   "metadata": {},
   "outputs": [],
   "source": [
    "# creating a metric object \n",
    "m = Recall()\n",
    "# calculating the recall value \n",
    "m = update_state(y_true , y_hat)\n",
    "# return recall result \n",
    "m.result().numpy()\n"
   ]
  },
  {
   "cell_type": "code",
   "execution_count": null,
   "id": "c52ae0dc-9204-42ad-b556-db9827748199",
   "metadata": {},
   "outputs": [],
   "source": [
    "# plotting the results \n"
   ]
  },
  {
   "cell_type": "code",
   "execution_count": 80,
   "id": "4ff8c48d-cbc8-4f2e-b9e1-0cf9b28a62c3",
   "metadata": {},
   "outputs": [
    {
     "data": {
      "image/png": "[encoded data removed]",
      "text/plain": [
       "<Figure size 1800x800 with 2 Axes>"
      ]
     },
     "metadata": {},
     "output_type": "display_data"
    }
   ],
   "source": [
    "plt.figure(figsize=(18,8))\n",
    "plt.subplot(1,2,1)\n",
    "plt.imshow(test_input[0])\n",
    "plt.subplot(1,2,2)\n",
    "plt.imshow(test_val[0])\n",
    "plt.show()"
   ]
  },
  {
   "cell_type": "code",
   "execution_count": 81,
   "id": "ad28a309-68d9-453d-8763-70b5ca92fbc1",
   "metadata": {},
   "outputs": [
    {
     "data": {
      "image/png": "[encoded data removed]",
      "text/plain": [
       "<Figure size 1800x800 with 2 Axes>"
      ]
     },
     "metadata": {},
     "output_type": "display_data"
    }
   ],
   "source": [
    "plt.figure(figsize=(18,8))\n",
    "plt.subplot(1,2,1)\n",
    "plt.imshow(test_input[7])\n",
    "plt.subplot(1,2,2)\n",
    "plt.imshow(test_val[7])\n",
    "plt.show()"
   ]
  },
  {
   "cell_type": "code",
   "execution_count": null,
   "id": "d4d0529b-9458-448d-9c80-027fad817ad1",
   "metadata": {},
   "outputs": [],
   "source": [
    "# save the model "
   ]
  },
  {
   "cell_type": "code",
   "execution_count": 92,
   "id": "8a2a86b8-f978-4a17-b776-31e0fe9b4e2a",
   "metadata": {},
   "outputs": [
    {
     "name": "stderr",
     "output_type": "stream",
     "text": [
      "WARNING:absl:You are saving your model as an HDF5 file via `model.save()` or `keras.saving.save_model(model)`. This file format is considered legacy. We recommend using instead the native Keras format, e.g. `model.save('my_model.keras')` or `keras.saving.save_model(model, 'my_model.keras')`. \n"
     ]
    }
   ],
   "source": [
    "# Save weights\n",
    "siamese_model.save('siamesemodelv2.h5')"
   ]
  },
  {
   "cell_type": "code",
   "execution_count": 93,
   "id": "c385c5b3-003e-4c2a-9719-a1fabb9ca1f8",
   "metadata": {},
   "outputs": [
    {
     "data": {
      "text/plain": [
       "__main__.L1Dist"
      ]
     },
     "execution_count": 93,
     "metadata": {},
     "output_type": "execute_result"
    }
   ],
   "source": [
    "L1Dist"
   ]
  },
  {
   "cell_type": "code",
   "execution_count": 94,
   "id": "14a4320b-53dc-4d63-a371-93d5adf4fbc5",
   "metadata": {},
   "outputs": [
    {
     "name": "stderr",
     "output_type": "stream",
     "text": [
      "WARNING:absl:No training configuration found in the save file, so the model was *not* compiled. Compile it manually.\n"
     ]
    }
   ],
   "source": [
    "# Reload model \n",
    "siamese_model = tf.keras.models.load_model('siamesemodelv2.h5', \n",
    "                                   custom_objects={'L1Dist':L1Dist, 'BinaryCrossentropy':tf.losses.BinaryCrossentropy})"
   ]
  },
  {
   "cell_type": "code",
   "execution_count": 95,
   "id": "66095035-60a3-464d-a19c-dfa2784ff3b9",
   "metadata": {},
   "outputs": [
    {
     "name": "stdout",
     "output_type": "stream",
     "text": [
      "\u001b[1m1/1\u001b[0m \u001b[32m━━━━━━━━━━━━━━━━━━━━\u001b[0m\u001b[37m\u001b[0m \u001b[1m6s\u001b[0m 6s/step\n"
     ]
    },
    {
     "data": {
      "text/plain": [
       "array([[0.49907044],\n",
       "       [0.49678588],\n",
       "       [0.499382  ],\n",
       "       [0.49789438],\n",
       "       [0.4997674 ],\n",
       "       [0.4984607 ],\n",
       "       [0.498589  ],\n",
       "       [0.4985511 ],\n",
       "       [0.4986241 ],\n",
       "       [0.49964976],\n",
       "       [0.49648005],\n",
       "       [0.49944127],\n",
       "       [0.49910057],\n",
       "       [0.4997492 ],\n",
       "       [0.49668708],\n",
       "       [0.49729773]], dtype=float32)"
      ]
     },
     "execution_count": 95,
     "metadata": {},
     "output_type": "execute_result"
    }
   ],
   "source": [
    "# Make predictions with reloaded model\n",
    "siamese_model.predict([test_input, test_val])"
   ]
  },
  {
   "cell_type": "code",
   "execution_count": 96,
   "id": "58f2328c-ce4e-46bf-9bfd-b8a69802af51",
   "metadata": {},
   "outputs": [
    {
     "data": {
      "text/html": [
       "<pre style=\"white-space:pre;overflow-x:auto;line-height:normal;font-family:Menlo,'DejaVu Sans Mono',consolas,'Courier New',monospace\"><span style=\"font-weight: bold\">Model: \"SiameseNetwork\"</span>\n",
       "</pre>\n"
      ],
      "text/plain": [
       "\u001b[1mModel: \"SiameseNetwork\"\u001b[0m\n"
      ]
     },
     "metadata": {},
     "output_type": "display_data"
    },
    {
     "data": {
      "text/html": [
       "<pre style=\"white-space:pre;overflow-x:auto;line-height:normal;font-family:Menlo,'DejaVu Sans Mono',consolas,'Courier New',monospace\">┏━━━━━━━━━━━━━━━━━━━━━━━━━━━━━━━┳━━━━━━━━━━━━━━━━━━━━━━━━━━━┳━━━━━━━━━━━━━━━━━┳━━━━━━━━━━━━━━━━━━━━━━━━━━━━┓\n",
       "┃<span style=\"font-weight: bold\"> Layer (type)                  </span>┃<span style=\"font-weight: bold\"> Output Shape              </span>┃<span style=\"font-weight: bold\">         Param # </span>┃<span style=\"font-weight: bold\"> Connected to               </span>┃\n",
       "┡━━━━━━━━━━━━━━━━━━━━━━━━━━━━━━━╇━━━━━━━━━━━━━━━━━━━━━━━━━━━╇━━━━━━━━━━━━━━━━━╇━━━━━━━━━━━━━━━━━━━━━━━━━━━━┩\n",
       "│ input_img (<span style=\"color: #0087ff; text-decoration-color: #0087ff\">InputLayer</span>)        │ (<span style=\"color: #00d7ff; text-decoration-color: #00d7ff\">None</span>, <span style=\"color: #00af00; text-decoration-color: #00af00\">100</span>, <span style=\"color: #00af00; text-decoration-color: #00af00\">100</span>, <span style=\"color: #00af00; text-decoration-color: #00af00\">3</span>)       │               <span style=\"color: #00af00; text-decoration-color: #00af00\">0</span> │ -                          │\n",
       "├───────────────────────────────┼───────────────────────────┼─────────────────┼────────────────────────────┤\n",
       "│ validation_img (<span style=\"color: #0087ff; text-decoration-color: #0087ff\">InputLayer</span>)   │ (<span style=\"color: #00d7ff; text-decoration-color: #00d7ff\">None</span>, <span style=\"color: #00af00; text-decoration-color: #00af00\">100</span>, <span style=\"color: #00af00; text-decoration-color: #00af00\">100</span>, <span style=\"color: #00af00; text-decoration-color: #00af00\">3</span>)       │               <span style=\"color: #00af00; text-decoration-color: #00af00\">0</span> │ -                          │\n",
       "├───────────────────────────────┼───────────────────────────┼─────────────────┼────────────────────────────┤\n",
       "│ embedding (<span style=\"color: #0087ff; text-decoration-color: #0087ff\">Functional</span>)        │ (<span style=\"color: #00d7ff; text-decoration-color: #00d7ff\">None</span>, <span style=\"color: #00af00; text-decoration-color: #00af00\">4096</span>)              │      <span style=\"color: #00af00; text-decoration-color: #00af00\">38,960,448</span> │ input_img[<span style=\"color: #00af00; text-decoration-color: #00af00\">0</span>][<span style=\"color: #00af00; text-decoration-color: #00af00\">0</span>],           │\n",
       "│                               │                           │                 │ validation_img[<span style=\"color: #00af00; text-decoration-color: #00af00\">0</span>][<span style=\"color: #00af00; text-decoration-color: #00af00\">0</span>]       │\n",
       "├───────────────────────────────┼───────────────────────────┼─────────────────┼────────────────────────────┤\n",
       "│ l1_dist_1 (<span style=\"color: #0087ff; text-decoration-color: #0087ff\">L1Dist</span>)            │ (<span style=\"color: #00d7ff; text-decoration-color: #00d7ff\">None</span>, <span style=\"color: #00af00; text-decoration-color: #00af00\">4096</span>)              │               <span style=\"color: #00af00; text-decoration-color: #00af00\">0</span> │ embedding[<span style=\"color: #00af00; text-decoration-color: #00af00\">0</span>][<span style=\"color: #00af00; text-decoration-color: #00af00\">0</span>],           │\n",
       "│                               │                           │                 │ embedding[<span style=\"color: #00af00; text-decoration-color: #00af00\">1</span>][<span style=\"color: #00af00; text-decoration-color: #00af00\">0</span>]            │\n",
       "├───────────────────────────────┼───────────────────────────┼─────────────────┼────────────────────────────┤\n",
       "│ dense_1 (<span style=\"color: #0087ff; text-decoration-color: #0087ff\">Dense</span>)               │ (<span style=\"color: #00d7ff; text-decoration-color: #00d7ff\">None</span>, <span style=\"color: #00af00; text-decoration-color: #00af00\">1</span>)                 │           <span style=\"color: #00af00; text-decoration-color: #00af00\">4,097</span> │ l1_dist_1[<span style=\"color: #00af00; text-decoration-color: #00af00\">0</span>][<span style=\"color: #00af00; text-decoration-color: #00af00\">0</span>]            │\n",
       "└───────────────────────────────┴───────────────────────────┴─────────────────┴────────────────────────────┘\n",
       "</pre>\n"
      ],
      "text/plain": [
       "┏━━━━━━━━━━━━━━━━━━━━━━━━━━━━━━━┳━━━━━━━━━━━━━━━━━━━━━━━━━━━┳━━━━━━━━━━━━━━━━━┳━━━━━━━━━━━━━━━━━━━━━━━━━━━━┓\n",
       "┃\u001b[1m \u001b[0m\u001b[1mLayer (type)                 \u001b[0m\u001b[1m \u001b[0m┃\u001b[1m \u001b[0m\u001b[1mOutput Shape             \u001b[0m\u001b[1m \u001b[0m┃\u001b[1m \u001b[0m\u001b[1m        Param #\u001b[0m\u001b[1m \u001b[0m┃\u001b[1m \u001b[0m\u001b[1mConnected to              \u001b[0m\u001b[1m \u001b[0m┃\n",
       "┡━━━━━━━━━━━━━━━━━━━━━━━━━━━━━━━╇━━━━━━━━━━━━━━━━━━━━━━━━━━━╇━━━━━━━━━━━━━━━━━╇━━━━━━━━━━━━━━━━━━━━━━━━━━━━┩\n",
       "│ input_img (\u001b[38;5;33mInputLayer\u001b[0m)        │ (\u001b[38;5;45mNone\u001b[0m, \u001b[38;5;34m100\u001b[0m, \u001b[38;5;34m100\u001b[0m, \u001b[38;5;34m3\u001b[0m)       │               \u001b[38;5;34m0\u001b[0m │ -                          │\n",
       "├───────────────────────────────┼───────────────────────────┼─────────────────┼────────────────────────────┤\n",
       "│ validation_img (\u001b[38;5;33mInputLayer\u001b[0m)   │ (\u001b[38;5;45mNone\u001b[0m, \u001b[38;5;34m100\u001b[0m, \u001b[38;5;34m100\u001b[0m, \u001b[38;5;34m3\u001b[0m)       │               \u001b[38;5;34m0\u001b[0m │ -                          │\n",
       "├───────────────────────────────┼───────────────────────────┼─────────────────┼────────────────────────────┤\n",
       "│ embedding (\u001b[38;5;33mFunctional\u001b[0m)        │ (\u001b[38;5;45mNone\u001b[0m, \u001b[38;5;34m4096\u001b[0m)              │      \u001b[38;5;34m38,960,448\u001b[0m │ input_img[\u001b[38;5;34m0\u001b[0m][\u001b[38;5;34m0\u001b[0m],           │\n",
       "│                               │                           │                 │ validation_img[\u001b[38;5;34m0\u001b[0m][\u001b[38;5;34m0\u001b[0m]       │\n",
       "├───────────────────────────────┼───────────────────────────┼─────────────────┼────────────────────────────┤\n",
       "│ l1_dist_1 (\u001b[38;5;33mL1Dist\u001b[0m)            │ (\u001b[38;5;45mNone\u001b[0m, \u001b[38;5;34m4096\u001b[0m)              │               \u001b[38;5;34m0\u001b[0m │ embedding[\u001b[38;5;34m0\u001b[0m][\u001b[38;5;34m0\u001b[0m],           │\n",
       "│                               │                           │                 │ embedding[\u001b[38;5;34m1\u001b[0m][\u001b[38;5;34m0\u001b[0m]            │\n",
       "├───────────────────────────────┼───────────────────────────┼─────────────────┼────────────────────────────┤\n",
       "│ dense_1 (\u001b[38;5;33mDense\u001b[0m)               │ (\u001b[38;5;45mNone\u001b[0m, \u001b[38;5;34m1\u001b[0m)                 │           \u001b[38;5;34m4,097\u001b[0m │ l1_dist_1[\u001b[38;5;34m0\u001b[0m][\u001b[38;5;34m0\u001b[0m]            │\n",
       "└───────────────────────────────┴───────────────────────────┴─────────────────┴────────────────────────────┘\n"
      ]
     },
     "metadata": {},
     "output_type": "display_data"
    },
    {
     "data": {
      "text/html": [
       "<pre style=\"white-space:pre;overflow-x:auto;line-height:normal;font-family:Menlo,'DejaVu Sans Mono',consolas,'Courier New',monospace\"><span style=\"font-weight: bold\"> Total params: </span><span style=\"color: #00af00; text-decoration-color: #00af00\">38,964,545</span> (148.64 MB)\n",
       "</pre>\n"
      ],
      "text/plain": [
       "\u001b[1m Total params: \u001b[0m\u001b[38;5;34m38,964,545\u001b[0m (148.64 MB)\n"
      ]
     },
     "metadata": {},
     "output_type": "display_data"
    },
    {
     "data": {
      "text/html": [
       "<pre style=\"white-space:pre;overflow-x:auto;line-height:normal;font-family:Menlo,'DejaVu Sans Mono',consolas,'Courier New',monospace\"><span style=\"font-weight: bold\"> Trainable params: </span><span style=\"color: #00af00; text-decoration-color: #00af00\">38,964,545</span> (148.64 MB)\n",
       "</pre>\n"
      ],
      "text/plain": [
       "\u001b[1m Trainable params: \u001b[0m\u001b[38;5;34m38,964,545\u001b[0m (148.64 MB)\n"
      ]
     },
     "metadata": {},
     "output_type": "display_data"
    },
    {
     "data": {
      "text/html": [
       "<pre style=\"white-space:pre;overflow-x:auto;line-height:normal;font-family:Menlo,'DejaVu Sans Mono',consolas,'Courier New',monospace\"><span style=\"font-weight: bold\"> Non-trainable params: </span><span style=\"color: #00af00; text-decoration-color: #00af00\">0</span> (0.00 B)\n",
       "</pre>\n"
      ],
      "text/plain": [
       "\u001b[1m Non-trainable params: \u001b[0m\u001b[38;5;34m0\u001b[0m (0.00 B)\n"
      ]
     },
     "metadata": {},
     "output_type": "display_data"
    }
   ],
   "source": [
    "# View model summary\n",
    "siamese_model.summary()"
   ]
  },
  {
   "cell_type": "code",
   "execution_count": null,
   "id": "22c8707a-491b-482e-ae18-0bf0b5fdb639",
   "metadata": {},
   "outputs": [],
   "source": [
    "# real time testing of the model \n",
    "import os"
   ]
  },
  {
   "cell_type": "code",
   "execution_count": null,
   "id": "134d5be2-6988-4c7d-a6b0-b65806642e2f",
   "metadata": {},
   "outputs": [],
   "source": [
    "application_data\\verification_images"
   ]
  },
  {
   "cell_type": "code",
   "execution_count": null,
   "id": "50738f9f-2270-4271-9085-866ff0c6b7f3",
   "metadata": {},
   "outputs": [],
   "source": [
    "os.listdir(os.path.join('application_data' ,'verification_images'))"
   ]
  },
  {
   "cell_type": "code",
   "execution_count": null,
   "id": "a6025dab-f36e-4a3a-a930-b68496a8e135",
   "metadata": {},
   "outputs": [],
   "source": [
    "for image in os.listdir(os.path.join('application_data', 'verification_images')):\n",
    "    validation_img = preprocess(os.path.join('application_data', 'verification_images',image))\n",
    "    print(validation_img)"
   ]
  },
  {
   "cell_type": "code",
   "execution_count": null,
   "id": "5b9c6ede-6922-4e33-af7c-33808ae2a942",
   "metadata": {},
   "outputs": [],
   "source": [
    "import os\n",
    "import numpy as np\n",
    "\n",
    "def verify(model, detection_threshold, verification_threshold):\n",
    "    # Build results array\n",
    "    results = []\n",
    "    for image in os.listdir(os.path.join('application_data', 'verification_images')):\n",
    "        input_img = preprocess(os.path.join('application_data', 'input_image', 'input_image.jpg'))\n",
    "        validation_img = preprocess(os.path.join('application_data', 'verification_images', image))\n",
    "        \n",
    "        # Make Predictions \n",
    "        result = model.predict(list(np.expand_dims([input_img, validation_img], axis=1)))\n",
    "        results.append(result)\n",
    "    \n",
    "    # Detection Threshold: Metric above which a prediciton is considered positive \n",
    "    detection = np.sum(np.array(results) > detection_threshold)\n",
    "    \n",
    "    # Verification Threshold: Proportion of positive predictions / total positive samples \n",
    "    verification = detection / len(os.listdir(os.path.join('application_data', 'verification_images'))) \n",
    "    verified = verification > verification_threshold\n",
    "    \n",
    "    return results, verified"
   ]
  },
  {
   "cell_type": "code",
   "execution_count": null,
   "id": "97d4aa58-bf71-41fc-bc99-1005b085b504",
   "metadata": {},
   "outputs": [],
   "source": [
    "import cv2 \n",
    "cap = cv2.VideoCapture(0)\n",
    "while cap.isOpened():\n",
    "    ret , frame = cap.read()\n",
    "    frame = frame[120:120+250 , 200:200+250,:]\n",
    "\n",
    "    cv2.imshow('verification' , frame) \n",
    "    # verification trigger \n",
    "    if cv2.waitKey(10) & 0xFF == ord('v'):\n",
    "        #save input image to application_data/input_image folder \n",
    "        cv2.imwrite(os.path.join('application_data', 'input_image' , 'imput_image.jpg'), frame)\n",
    "        # Run verification\n",
    "        results, verified = verify(make_siamese_model, 0.5, 0.5)\n",
    "        print(verified)\n",
    "\n",
    "    if cv2.waitKey(10) & 0xFF == ord('q'):\n",
    "        break\n",
    "cap.release()\n",
    "cv2.destroyAllWindows()"
   ]
  },
  {
   "cell_type": "code",
   "execution_count": null,
   "id": "7ba45fa8-3f44-47c6-b434-d29f8c2928fb",
   "metadata": {},
   "outputs": [],
   "source": [
    "results "
   ]
  }
 ],
 "metadata": {
  "kernelspec": {
   "display_name": "Python 3 (ipykernel)",
   "language": "python",
   "name": "python3"
  },
  "language_info": {
   "codemirror_mode": {
    "name": "ipython",
    "version": 3
   },
   "file_extension": ".py",
   "mimetype": "text/x-python",
   "name": "python",
   "nbconvert_exporter": "python",
   "pygments_lexer": "ipython3",
   "version": "3.11.9"
  }
 },
 "nbformat": 4,
 "nbformat_minor": 5
}
